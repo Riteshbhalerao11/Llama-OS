{
 "cells": [
  {
   "cell_type": "code",
   "execution_count": 1,
   "metadata": {
    "id": "60hcfuSl__l4"
   },
   "outputs": [],
   "source": [
    "from llama_index.embeddings.langchain import LangchainEmbedding\n",
    "from langchain.embeddings.huggingface import HuggingFaceEmbeddings\n",
    "\n",
    "from llama_index.core.llama_pack.base import BaseLlamaPack\n",
    "from llama_index.core import SimpleDirectoryReader\n",
    "\n",
    "from llama_index.core.node_parser import SemanticSplitterNodeParser, SentenceSplitter\n",
    "from llama_index.core.llms import ChatMessage\n",
    "from llama_index.llms.openai import OpenAI\n",
    "from llama_index.embeddings.openai import OpenAIEmbedding\n",
    "from llama_index.core import Document, VectorStoreIndex, ServiceContext\n",
    "from transformers import AutoTokenizer\n",
    "\n",
    "import pymupdf4llm\n",
    "from langchain.text_splitter import MarkdownTextSplitter\n",
    "\n",
    "import numpy as np\n",
    "import matplotlib.pyplot as plt"
   ]
  },
  {
   "cell_type": "code",
   "execution_count": 2,
   "metadata": {
    "id": "uhM6XI9FhAJf"
   },
   "outputs": [],
   "source": [
    "tokenizer = AutoTokenizer.from_pretrained(\"../Embeddings/bge-large-matryoshka/\")"
   ]
  },
  {
   "cell_type": "code",
   "execution_count": 3,
   "metadata": {
    "colab": {
     "base_uri": "https://localhost:8080/",
     "height": 330,
     "referenced_widgets": [
      "6b56162673334fd7923deb7ce5bdb92a",
      "438d37db58c64be0aaacbe6f7c2fa7c0",
      "59a2c72b08624e2b9ab5c84691f9d3b0",
      "23ae86bef6e541698e8990e8fe3860dc",
      "576f92bc6dda4602bde8da16a689cdbd",
      "6b839d289d3f498aae2a81d8056fd3ab",
      "2c032c013d314fc99d76737f91ed5402",
      "800f4269f2e8495cb116b677476ce7d3",
      "cbe8e6ca8b4e4b0ca024b61336e4203b",
      "3c31d1376e5c44759de2dcd696de6620",
      "f9f19c72c1c54759bd16caf9266f094b",
      "92f5213800c743f3b1bd1a3948629a4d",
      "ba2c6fa747f744b38667a733e389b5ff",
      "d81afbf816b144888bf8e21de39e6c3f",
      "664a6d65d8e940b881e9bde472358458",
      "bcac6f57d780476eba6f387e6a20490a",
      "e2538a47b92c4e11a00d6708e16e0596",
      "d78e4c4ec18740b5aa8631354bf20199",
      "c9abea61dd584734a63887d55152170e",
      "fda4a5cb72e54cdcab0cda9dae85fb45",
      "972b81897a2549cb86bb1bfe6bac1e7b",
      "89219c31055543e39deafeb13dab4a63",
      "54424f03dede48088a4c4ce2e53afe9e",
      "a67b619e01434c82841d9a6927267403",
      "1483833528c04cc79ba98548b8ce7380",
      "4de75fc64de54f8a902474776d87ed96",
      "d3d6595d47f846c398acd1df5295f55d",
      "48fd9dbbe9744a64b7b6053ccaa7c6ee",
      "b8f8114978f443dca12540ddfc27cc55",
      "0c6075f13d5340c5a19f4459a0861c32",
      "d23f1eedb0ef42848b3a8acb1d6d4a0b",
      "5feb41e6b9d8464ab2ad894c30adad23",
      "2857bbc7c2a44daeb667dd7e482ee7f5",
      "afccbf9360d949b59e27a0ea40bbc383",
      "f78dc0a6f8414da5a7ffa228992225d5",
      "ec044bb77eb94e06aa81994289f636c6",
      "c6221fc53dab4dca8303cf9de6e3f02d",
      "b547a2c695a2460c99d0cb6240360f59",
      "147b1933f5f749d097828006534956a8",
      "676f89e4f4b64d59966212e98a779b68",
      "42089462de98445d8e6dc49a1ae87332",
      "323c58fb557347a189766053fbf01774",
      "ed8b960c7f334c08a3d0505d6948ce3e",
      "b0cee016072d4935af8f840d1034078a",
      "158401abf34c4e00a8846b355d657ef7",
      "6c6b5b557aee4ca998aa68594aae1555",
      "52f3cd25063843d09dd28d760293a469",
      "b2cc7150ff3b4d909b9d10e3f8dd6e60",
      "ccb38009ee6a4c48abe48fb11409ee4a",
      "d4c65c3a8e69428b8c2600e90ffce92f",
      "1d04cc093e974eec82bae92d1772a1ad",
      "96b1be01445b4108b29d7d90a4a7305a",
      "2cf274c258884734ae5e5b3c5cfd3e0a",
      "c6c1b425ac3147acbaa9537d62153e59",
      "7db915bcba2b44e7adbddda83737b8fa",
      "8c4afd2f7e744a79b88b90b60db7a5a3",
      "16e3e9b23fd14a67b77c4b671dbbda25",
      "13459eace38e4977a5aee9b65c5ee8c7",
      "a4a74ddf26cf4a2595a30790ef1d4e8a",
      "af207bafd3d84f9b98e7e2ca7376768a",
      "a351cd16398448ceb20bcb2019f73888",
      "fb91bfd36085485dae076f8340752b83",
      "1385f581232745debae3360ec821271e",
      "4ad3ef75730a478a84be5e99cb79a7d4",
      "33f5639d2eaf416988891365d5856552",
      "36516ce2aa194e858fe17f60916a6b7b",
      "97f9c05c5aef486f9703ae23eb4249c4",
      "6c7960b9b2004add9a9ab0266b3d074f",
      "bf075f5d3f154cb9b20b2cf500a18992",
      "bce80c56f73c46d19f959c3201ca4d82",
      "8ae31ea0579d4daa97b071785a7e08a1",
      "5b5d4b9c809c4516837bb1f967acb706",
      "8605d55b3a434082b088741514c605d7",
      "cf78b60210c44d13bac5297d9cbe7bb7",
      "e5c4504ecfba4560887a0db507002a87",
      "f0a712888ea94898a63f9d919c5e527a",
      "23450d1e8561464381552d7633643cfd"
     ]
    },
    "id": "iVep_enM__l5",
    "outputId": "1daf9c03-7b24-4fbf-b706-901475d03db2"
   },
   "outputs": [],
   "source": [
    "embeddings=LangchainEmbedding(\n",
    "    HuggingFaceEmbeddings(model_name=\"../Embeddings/bge-large-matryoshka/\")\n",
    ")"
   ]
  },
  {
   "cell_type": "code",
   "execution_count": 4,
   "metadata": {},
   "outputs": [
    {
     "name": "stderr",
     "output_type": "stream",
     "text": [
      "/tmp/ipykernel_8801/1395507778.py:2: DeprecationWarning: Call to deprecated function (or staticmethod) from_defaults. (ServiceContext is deprecated, please use `llama_index.settings.Settings` instead.) -- Deprecated since version 0.10.0.\n",
      "  service_context = ServiceContext.from_defaults(\n"
     ]
    },
    {
     "name": "stdout",
     "output_type": "stream",
     "text": [
      "LLM is explicitly disabled. Using MockLLM.\n"
     ]
    }
   ],
   "source": [
    "# Create new service context instance\n",
    "service_context = ServiceContext.from_defaults(\n",
    "    chunk_size=512,\n",
    "    llm=None,\n",
    "    embed_model=embeddings\n",
    ")"
   ]
  },
  {
   "cell_type": "code",
   "execution_count": 5,
   "metadata": {
    "id": "coYhtLqJ__l6"
   },
   "outputs": [],
   "source": [
    "# file_path =  '../Data/Os_books/Stallings.pdf'"
   ]
  },
  {
   "cell_type": "code",
   "execution_count": 6,
   "metadata": {
    "id": "ryaLk4be__l6"
   },
   "outputs": [],
   "source": [
    "# # Get the MD text\n",
    "# md_text = pymupdf4llm.to_markdown(file_path)  # get markdown for all pages"
   ]
  },
  {
   "cell_type": "code",
   "execution_count": 7,
   "metadata": {
    "id": "YmWgj3gh__l7"
   },
   "outputs": [],
   "source": [
    "# import os\n",
    "\n",
    "# # Assuming file_path and md_text are defined\n",
    "# file_name = os.path.splitext(os.path.basename(file_path))[0] + '.txt'\n",
    "\n",
    "# with open(file_name, 'w') as file:\n",
    "#     file.write(md_text)"
   ]
  },
  {
   "cell_type": "code",
   "execution_count": 8,
   "metadata": {},
   "outputs": [],
   "source": [
    "file_names = ['Galvin.txt','Tanenbaum.txt', 'Stallings.txt']"
   ]
  },
  {
   "cell_type": "code",
   "execution_count": 9,
   "metadata": {
    "id": "p5xNEkj9__l7"
   },
   "outputs": [],
   "source": [
    "documents = SimpleDirectoryReader(input_files=file_names).load_data()"
   ]
  },
  {
   "cell_type": "code",
   "execution_count": 10,
   "metadata": {
    "colab": {
     "base_uri": "https://localhost:8080/"
    },
    "id": "Y1_BS42i__l7",
    "outputId": "33703b57-aaf9-4c35-c47f-3f086119a375"
   },
   "outputs": [
    {
     "data": {
      "text/plain": [
       "3"
      ]
     },
     "execution_count": 10,
     "metadata": {},
     "output_type": "execute_result"
    }
   ],
   "source": [
    "len(documents)"
   ]
  },
  {
   "cell_type": "code",
   "execution_count": 12,
   "metadata": {},
   "outputs": [],
   "source": [
    "index = VectorStoreIndex.from_documents(documents,service_context=service_context)"
   ]
  },
  {
   "cell_type": "code",
   "execution_count": 27,
   "metadata": {},
   "outputs": [],
   "source": [
    "index.storage_context.persist(\"../Data/Index/\")"
   ]
  },
  {
   "cell_type": "code",
   "execution_count": 24,
   "metadata": {},
   "outputs": [],
   "source": [
    "query_engine = index.as_query_engine(similarity_top_k=5)"
   ]
  },
  {
   "cell_type": "code",
   "execution_count": 25,
   "metadata": {},
   "outputs": [],
   "source": [
    "response = query_engine.query(\"Explain evolution of I/O functions\")"
   ]
  },
  {
   "cell_type": "code",
   "execution_count": 26,
   "metadata": {},
   "outputs": [
    {
     "name": "stdout",
     "output_type": "stream",
     "text": [
      "Context information is below.\n",
      "---------------------\n",
      "file_path: Stallings.txt\n",
      "\n",
      "One way to tackle\n",
      "this problem is multiprogramming, which, as we have seen, allows some processes to\n",
      "be waiting on I/O operations while another process is executing. However, even\n",
      "with the vast size of main memory in today’s machines, it will still often be the case\n",
      "that I/O is not keeping up with the activities of the processor. Swapping is used to\n",
      "bring in additional ready processes to keep the processor busy, but this in itself is an\n",
      "I/O operation.Thus, a major effort in I/O design has been schemes for improving the\n",
      "efficiency of the I/O.The area that has received the most attention, because of its importance, is disk I/O, and much of this chapter will be devoted to a study of disk I/O\n",
      "efficiency.\n",
      "\n",
      "The other major objective is **generality** . In the interests of simplicity and free-\n",
      "\n",
      "dom from error, it is desirable to handle all devices in a uniform manner.This statement applies both to the way in which processes view I/O devices and the way in\n",
      "which the operating system manages I/O devices and operations. Because of the diversity of device characteristics, it is difficult in practice to achieve true generality.\n",
      "What can be done is to use a hierarchical, modular approach to the design of the I/O\n",
      "function. This approach hides most of the details of device I/O in lower-level routines so that user processes and upper levels of the operating system see devices in\n",
      "terms of general functions, such as read, write, open, close, lock, unlock.We turn now\n",
      "to a discussion of this approach.\n",
      "\n",
      "**Logical Structure of the I/O Function**\n",
      "\n",
      "In Chapter 2, in the discussion of system structure, we emphasized the hierarchical\n",
      "nature of modern operating systems.The hierarchical philosophy is that the functions\n",
      "of the operating system should be separated according to their complexity, their\n",
      "characteristic time scale, and their level of abstraction. Following this approach leads\n",
      "\n",
      "file_path: Stallings.txt\n",
      "\n",
      "Because of the diversity of device characteristics, it is difficult in practice to achieve true generality.\n",
      "What can be done is to use a hierarchical, modular approach to the design of the I/O\n",
      "function. This approach hides most of the details of device I/O in lower-level routines so that user processes and upper levels of the operating system see devices in\n",
      "terms of general functions, such as read, write, open, close, lock, unlock.We turn now\n",
      "to a discussion of this approach.\n",
      "\n",
      "**Logical Structure of the I/O Function**\n",
      "\n",
      "In Chapter 2, in the discussion of system structure, we emphasized the hierarchical\n",
      "nature of modern operating systems.The hierarchical philosophy is that the functions\n",
      "of the operating system should be separated according to their complexity, their\n",
      "characteristic time scale, and their level of abstraction. Following this approach leads\n",
      "\n",
      "\n",
      "-----\n",
      "\n",
      "**502** **CHAPTER 11 / I/O MANAGEMENT AND DISK SCHEDULING**\n",
      "\n",
      "to an organization of the operating system into a series of layers. Each layer performs\n",
      "a related subset of the functions required of the operating system. It relies on the\n",
      "next lower layer to perform more primitive functions and to conceal the details of\n",
      "those functions. It provides services to the next higher layer. Ideally, the layers should\n",
      "be defined so that changes in one layer do not require changes in other layers. Thus\n",
      "we have decomposed one problem into a number of more manageable subproblems.\n",
      "\n",
      "In general, lower layers deal with a far shorter time scale. Some parts of the\n",
      "\n",
      "operating system must interact directly with the computer hardware, where events\n",
      "can have a time scale as brief as a few billionths of a second.At the other end of the\n",
      "spectrum, parts of the operating system communicate with the user, who issues commands at a much more leisurely pace, perhaps one every few seconds. The use of a\n",
      "set of layers conforms nicely to this environment.\n",
      "\n",
      "Applying this philosophy specifically to the I/O facility leads to the type of\n",
      "\n",
      "organization suggested by Figure 11.4 (compare with Table 2.4). The details of the\n",
      "organization will depend on the type of device and the application. The three most\n",
      "\n",
      "\n",
      "\n",
      "\n",
      "\n",
      "\n",
      "\n",
      "\n",
      "\n",
      "\n",
      "\n",
      "(a) Local peripheral device\n",
      "\n",
      "\n",
      "(b) Communications port\n",
      "\n",
      "\n",
      "(c) Filesystem\n",
      "\n",
      "\n",
      "**Figure 11.4** **A Model of I/O Organization**\n",
      "\n",
      "\n",
      "-----\n",
      "\n",
      "**11.3 / OPERATING SYSTEM DESIGN ISSUES** **503**\n",
      "\n",
      "important logical structures are presented in the figure.\n",
      "\n",
      "file_path: Stallings.txt\n",
      "\n",
      "**494**\n",
      "\n",
      "\n",
      "-----\n",
      "\n",
      "###### CHAPTER\n",
      "\n",
      "##### I/O M ANAGEMENT\n",
      "###### AND D ISK S CHEDULING\n",
      "\n",
      "**11.1** **I/O Devices**\n",
      "\n",
      "**11.2** **Organization of the I/O Function**\n",
      "\n",
      "The Evolution of the I/O Function\n",
      "Direct Memory Access\n",
      "\n",
      "\n",
      "**11.3** **Operating System Design Issues**\n",
      "\n",
      "Design Objectives\n",
      "Logical Structure of the I/O Function\n",
      "\n",
      "**11.4** **I/O Buffering**\n",
      "\n",
      "Single Buffer\n",
      "Double Buffer\n",
      "Circular Buffer\n",
      "The Utility of Buffering\n",
      "\n",
      "\n",
      "**11.5** **Disk Scheduling**\n",
      "\n",
      "Disk Performance Parameters\n",
      "Disk Scheduling Policies\n",
      "\n",
      "**11.6** **Raid**\n",
      "\n",
      "**11.7** **Disk Cache**\n",
      "\n",
      "Design Considerations\n",
      "Performance Considerations\n",
      "\n",
      "\n",
      "**11.8** **UNIX SVR4 I/O**\n",
      "\n",
      "Buffer Cache\n",
      "Character Queue\n",
      "Unbuffered I/O\n",
      "UNIX Devices\n",
      "\n",
      "**11.9** **LINUX I/O**\n",
      "\n",
      "Disk Scheduling\n",
      "Linux Page Cache\n",
      "\n",
      "\n",
      "**11.10** **Windows I/O**\n",
      "\n",
      "Basic I/O Facilities\n",
      "Asynchronous and Synchronous I/O\n",
      "Software RAID\n",
      "Volume Shadow Copies\n",
      "Volume Encryption\n",
      "\n",
      "**11.11** **Summary**\n",
      "**11.12** **Recommended Reading**\n",
      "**11.13** **Key Terms, Review Questions, and Problems**\n",
      "**APPENDIX 11A** **Disk Storage Devices**\n",
      "\n",
      "\n",
      "**495**\n",
      "\n",
      "\n",
      "-----\n",
      "\n",
      "**496** **CHAPTER 11 / I/O MANAGEMENT AND DISK SCHEDULING**\n",
      "\n",
      "Perhaps the messiest aspect of operating system design is input/output. Because\n",
      "there is such a wide variety of devices and applications of those devices, it is difficult\n",
      "to develop a general, consistent solution.\n",
      "\n",
      "We begin this chapter with a brief discussion of I/O devices and the organiza-\n",
      "\n",
      "tion of the I/O functions. These topics, which generally come within the scope of\n",
      "computer architecture, set the stage for an examination of I/O from the point of\n",
      "view of the operating system.\n",
      "\n",
      "The next section examines operating system design issues, including design ob-\n",
      "\n",
      "jectives, and the way in which the I/O function can be structured.Then I/O buffering\n",
      "is examined; one of the basic I/O services provided by the operating system is a\n",
      "buffering function, which improves overall performance.\n",
      "\n",
      "The next sections of the chapter are devoted to magnetic disk I/O.\n",
      "\n",
      "file_path: Galvin.txt\n",
      "\n",
      "**Figure 12.17** Device functionality progression.\n",
      "\n",
      "|increased flexibility|Col2|\n",
      "|---|---|\n",
      "|||\n",
      "\n",
      "\n",
      "-----\n",
      "\n",
      "**524** **Chapter 12** **I/O Systems**\n",
      "\n",
      "**Figure 12.18** I/O performance of storage (and network latency).\n",
      "\n",
      "opment time (months rather than days), and the decreased flexibility. For\n",
      "instance, a hardware RAID controller may not provide any means for the\n",
      "kernel to influence the order or location of individual block reads and\n",
      "writes, even if the kernel has special information about the workload that\n",
      "would enable it to improve the I/O performance.\n",
      "\n",
      "Over time, as with other aspects of computing, I/O devices have been\n",
      "\n",
      "increasing in speed. Nonvolatile memory devices are growing in popularity\n",
      "and in the variety of devices available. The speed of NVM devices varies from\n",
      "high to extraordinary, with next-generation devices nearing the speed of DRAM .\n",
      "These developments are increasing pressure on I/O subsystems as well as\n",
      "operating system algorithms to take advantage of the read/write speeds now\n",
      "available. Figure 12.18 shows CPU and storage devices in two dimensions:\n",
      "capacity and latency of I/O operations. Added to the figure is a representation\n",
      "of networking latency to reveal the performance “ tax ” networking adds to I/O .\n",
      "\n",
      "**12.8** **Summary**\n",
      "\n",
      "\n",
      "\n",
      "-  The basic hardware elements involved in I/O are buses, device controllers,\n",
      "\n",
      "and the devices themselves.\n",
      "\n",
      "-  The work of moving data between devices and main memory is performed\n",
      "\n",
      "by the CPU as programmed I/O or is offloaded to a DMA controller.\n",
      "\n",
      "-  The kernel module that controls a device is a device driver. The system-\n",
      "\n",
      "call interface provided to applications is designed to handle several basic\n",
      "categories of hardware, including block devices, character-stream devices,\n",
      "memory-mapped files, network sockets, and programmed interval timers.\n",
      "The system calls usually block the processes that issue them, but nonblocking and asynchronous calls are used by the kernel itself and by applications\n",
      "that must not sleep while waiting for an I/O operation to complete.\n",
      "\n",
      "\n",
      "-----\n",
      "\n",
      "**Practice Exercises** **525**\n",
      "\n",
      "\n",
      "\n",
      "-  The kernel’s I/O subsystem provides numerous services. Among these are\n",
      "\n",
      "I/O scheduling, buffering, caching, spooling, device reservation, error handling. Another service, name translation, makes the connections between\n",
      "hardware devices and the symbolic file names used by applications.\n",
      "\n",
      "file_path: Stallings.txt\n",
      "\n",
      "The\n",
      "result is that changes in hardware parameters need not affect most of the I/O software.\n",
      "\n",
      "A key aspect of I/O is the use of buffers that are controlled by I/O utilities\n",
      "\n",
      "rather than by application processes. Buffering smoothes out the differences between the internal speeds of the computer system and the speeds of I/O devices.The\n",
      "use of buffers also decouples the actual I/O transfer from the address space of the\n",
      "application process. This allows the operating system more flexibility in performing\n",
      "its memory-management function.\n",
      "\n",
      "The aspect of I/O that has the greatest impact on overall system performance\n",
      "\n",
      "is disk I/O. Accordingly, there has been greater research and design effort in this\n",
      "area than in any other kind of I/O. Two of the most widely used approaches to improve disk I/O performance are disk scheduling and the disk cache.\n",
      "\n",
      "At any time, there may be a queue of requests for I/O on the same disk. It is\n",
      "\n",
      "the object of disk scheduling to satisfy these requests in a way that minimizes the\n",
      "mechanical seek time of the disk and hence improves performance. The physical\n",
      "layout of pending requests plus considerations of locality come into play.\n",
      "\n",
      "A disk cache is a buffer, usually kept in main memory, that functions as a cache\n",
      "\n",
      "of disk blocks between disk memory and the rest of main memory. Because of the\n",
      "principle of locality, the use of a disk cache should substantially reduce the number\n",
      "of block I/O transfers between main memory and disk.\n",
      "\n",
      "**11.12 RECOMMENDED READING**\n",
      "\n",
      "General discussions of computer I/O can be found in most books on computer architecture, such as [STAL06]. [MEE96a] provides a good survey of the underlying\n",
      "recording technology of disk and tape systems. [MEE96b] focuses on the data storage techniques for disk and tape systems. [WIED87] contains an excellent discussion of disk performance issues, including those relating to disk scheduling. [NG98]\n",
      "looks at disk hardware performance issues. [CAO96] analyzes disk caching and disk\n",
      "scheduling. Good surveys of disk scheduling algorithms, with a performance analysis, are [WORT94] and [SELT90].\n",
      "---------------------\n",
      "Given the context information and not prior knowledge, answer the query.\n",
      "Query: Explain evolution of I/O functions\n",
      "Answer: \n"
     ]
    }
   ],
   "source": [
    "print(response.response)"
   ]
  },
  {
   "cell_type": "markdown",
   "metadata": {},
   "source": [
    "# Experimental 512 chunking "
   ]
  },
  {
   "cell_type": "code",
   "execution_count": 9,
   "metadata": {
    "id": "5FdduEKk__l7"
   },
   "outputs": [],
   "source": [
    "splitter = SemanticSplitterNodeParser(\n",
    "    buffer_size=1,\n",
    "    breakpoint_percentile_threshold=95,\n",
    "    embed_model=embeddings,\n",
    ")"
   ]
  },
  {
   "cell_type": "code",
   "execution_count": 10,
   "metadata": {
    "id": "XUvJtxFo__l8"
   },
   "outputs": [],
   "source": [
    "nodes = splitter.get_nodes_from_documents(documents)"
   ]
  },
  {
   "cell_type": "code",
   "execution_count": 11,
   "metadata": {
    "id": "kzY6dEZN__l8"
   },
   "outputs": [],
   "source": [
    "content = []\n",
    "for node in nodes:\n",
    "    if(node.get_content() != '' and len(node.get_content().split()) > 50):\n",
    "        content.append(node.get_content())"
   ]
  },
  {
   "cell_type": "code",
   "execution_count": 12,
   "metadata": {
    "id": "usOXa-UznZpB"
   },
   "outputs": [],
   "source": [
    "batches = [content[i:i+1024] for i in range(0, len(content), 1024)]"
   ]
  },
  {
   "cell_type": "code",
   "execution_count": 13,
   "metadata": {
    "id": "e5qSW3IsnhGW"
   },
   "outputs": [
    {
     "name": "stderr",
     "output_type": "stream",
     "text": [
      "Token indices sequence length is longer than the specified maximum sequence length for this model (744 > 512). Running this sequence through the model will result in indexing errors\n"
     ]
    }
   ],
   "source": [
    "enc = []\n",
    "for batch in batches:\n",
    "    encs = tokenizer(batch,return_offsets_mapping=True,return_attention_mask=False)\n",
    "    for i in range(len(batch)):\n",
    "        enc.append(encs[i])"
   ]
  },
  {
   "cell_type": "code",
   "execution_count": 14,
   "metadata": {
    "colab": {
     "base_uri": "https://localhost:8080/",
     "height": 106
    },
    "id": "f3J6VzTm__l9",
    "outputId": "2e446a45-467d-4bd7-9266-0a985e30e0b6"
   },
   "outputs": [],
   "source": [
    "def split_encs(arr, chunk_size=512):\n",
    "    \"\"\"\n",
    "    Splits a NumPy array into chunks of at most `chunk_size` elements.\n",
    "\n",
    "    Parameters:\n",
    "    arr (np.ndarray): The input array to split.\n",
    "    chunk_size (int): The maximum size of each chunk.\n",
    "\n",
    "    Returns:\n",
    "    list of np.ndarray: A list of NumPy arrays, each with at most `chunk_size` elements.\n",
    "    \"\"\"\n",
    "    # Calculate the number of chunks needed\n",
    "    num_chunks = int(np.ceil(len(arr) / chunk_size))\n",
    "    return [arr[i*chunk_size:(i+1)*chunk_size] for i in range(num_chunks)]"
   ]
  },
  {
   "cell_type": "code",
   "execution_count": 15,
   "metadata": {
    "id": "brGWz3imp5xD"
   },
   "outputs": [],
   "source": [
    "new_ids = []"
   ]
  },
  {
   "cell_type": "code",
   "execution_count": 16,
   "metadata": {
    "id": "jBCUgPzsp3lJ"
   },
   "outputs": [],
   "source": [
    "for i in range(len(content)):\n",
    "  new_ids.append(split_encs(np.array(enc[i].offsets)))"
   ]
  },
  {
   "cell_type": "code",
   "execution_count": 17,
   "metadata": {
    "id": "vXFWl4d5qN8i"
   },
   "outputs": [],
   "source": [
    "new_contents = []"
   ]
  },
  {
   "cell_type": "code",
   "execution_count": 18,
   "metadata": {
    "colab": {
     "base_uri": "https://localhost:8080/"
    },
    "id": "S8C8-rCysPxQ",
    "outputId": "1d4d01f7-14e7-40d6-ed14-fd8cac88cb50"
   },
   "outputs": [
    {
     "data": {
      "text/plain": [
       "2419"
      ]
     },
     "execution_count": 18,
     "metadata": {},
     "output_type": "execute_result"
    }
   ],
   "source": [
    "new_ids[0][0][-1][1]"
   ]
  },
  {
   "cell_type": "code",
   "execution_count": 19,
   "metadata": {
    "id": "jeLSnZcyriVx"
   },
   "outputs": [],
   "source": [
    "for i in range(len(content)):\n",
    "  ids = new_ids[i]\n",
    "  ctx = content[i]\n",
    "  for idx in ids:\n",
    "    start = idx[0][1]\n",
    "    end = idx[-1][1]\n",
    "    sub_ctx = ctx[start:end]\n",
    "    new_contents.append(sub_ctx)"
   ]
  },
  {
   "cell_type": "code",
   "execution_count": 20,
   "metadata": {
    "id": "OT7thHK7sltJ"
   },
   "outputs": [],
   "source": [
    "lens  = [len(tokenizer.tokenize(ctx)) for ctx in new_contents]"
   ]
  },
  {
   "cell_type": "code",
   "execution_count": 21,
   "metadata": {
    "id": "Vd4Y7Ey4s8fH"
   },
   "outputs": [],
   "source": [
    "idxs = np.where(np.array(lens) < 50)[0]"
   ]
  },
  {
   "cell_type": "code",
   "execution_count": 22,
   "metadata": {
    "id": "utH4RdrStBuh"
   },
   "outputs": [],
   "source": [
    "final_ctx = [item for idx, item in enumerate(new_contents) if idx not in idxs]"
   ]
  },
  {
   "cell_type": "code",
   "execution_count": 23,
   "metadata": {
    "colab": {
     "base_uri": "https://localhost:8080/",
     "height": 140
    },
    "id": "NtCeFLKxtiX9",
    "outputId": "2c589d04-3867-4d95-ecf8-3dff31bd306c"
   },
   "outputs": [
    {
     "data": {
      "text/plain": [
       "'”\\nof space and lack even a full-screen editor, whereas others require gigabytes\\nof space and are based entirely on graphical windowing systems. A more common definition, and the one that we usually follow, is that the operating system\\nis the one program running at all times on the computer—usually called the\\n**kernel** . Along with the kernel, there are two other types of programs: **system**\\n**programs** , which are associated with the operating system but are not necessarily part of the kernel, and application programs, which include all programs\\nnot associated with the operation of the system.\\n\\nThe matter of what constitutes an operating system became increasingly\\n\\nimportant as personal computers became more widespread and operating systems grew increasingly sophisticated. In 1998, the United States Department of\\nJustice filed suit against Microsoft, in essence claiming that Microsoft included\\ntoo much functionality in its operating systems and thus prevented application\\nvendors from competing. (For example, a web browser was an integral part of\\nMicrosoft’s operating systems.) As a result, Microsoft was found guilty of using\\nits operating-system monopoly to limit competition.\\n\\nToday, however, if we look at operating systems for mobile devices, we\\n\\nsee that once again the number of features constituting the operating system\\nis increasing. Mobile operating systems often include not only a core kernel\\nbut also **middleware** —a set of software frameworks that provide additional\\nservices to application developers. For example, each of the two most prominent mobile operating systems—Apple’s i OS and Google’s Android—features\\n\\n\\n**_WHY STUDY OPERATING SYSTEMS?_**\\n\\nAlthough there are many practitioners of computer science, only a small percentage of them will be involved in the creation or modification of an operating system. Why, then, study operating systems and how they work? Simply\\nbecause, as almost all code runs on top of an operating system, knowledge\\nof how operating systems work is crucial to proper, efficient, effective, and\\nsecure programming. Understanding the fundamentals of operating systems,\\nhow they drive computer hardware, and what they provide to applications is\\nnot only essential to those who program them but also highly useful to those\\nwho write programs on them and use them.\\n\\n\\n-----\\n\\n**1.2** **Computer-System Organization** **7**\\n\\na core kernel along with middleware that supports databases, multimedia, and\\ngraphics (to name only a few).\\n\\nIn summary, for our purposes, the operating system includes the always-\\n\\nrunning kernel, middleware frameworks that'"
      ]
     },
     "execution_count": 23,
     "metadata": {},
     "output_type": "execute_result"
    }
   ],
   "source": [
    "final_ctx[2]"
   ]
  },
  {
   "cell_type": "code",
   "execution_count": 24,
   "metadata": {
    "id": "oj92-kJEyzxj"
   },
   "outputs": [],
   "source": [
    "from llama_index.core.schema import TextNode"
   ]
  },
  {
   "cell_type": "code",
   "execution_count": 25,
   "metadata": {
    "id": "c1E4qYnny4Na"
   },
   "outputs": [],
   "source": [
    "final_nodes = []"
   ]
  },
  {
   "cell_type": "code",
   "execution_count": 26,
   "metadata": {
    "colab": {
     "base_uri": "https://localhost:8080/",
     "height": 36
    },
    "id": "eY8d92yR30PT",
    "outputId": "0b729dab-8af0-4219-dcaa-51e3180e9a8b"
   },
   "outputs": [
    {
     "data": {
      "text/plain": [
       "'{key}: {value}'"
      ]
     },
     "execution_count": 26,
     "metadata": {},
     "output_type": "execute_result"
    }
   ],
   "source": [
    "nodes[0].metadata_template"
   ]
  },
  {
   "cell_type": "code",
   "execution_count": 27,
   "metadata": {
    "id": "0KT8CXYLy2Cw"
   },
   "outputs": [],
   "source": [
    "for i,ctx in enumerate(final_ctx):\n",
    "  final_nodes.append(TextNode(text=ctx,id_=i, metadata={'source': \"Galvin\"}))"
   ]
  },
  {
   "cell_type": "code",
   "execution_count": 28,
   "metadata": {
    "colab": {
     "base_uri": "https://localhost:8080/"
    },
    "id": "s2_IA9Ba1EuC",
    "outputId": "aec4caf3-5d1a-4113-e854-880e103cb68d"
   },
   "outputs": [
    {
     "name": "stderr",
     "output_type": "stream",
     "text": [
      "/tmp/ipykernel_5692/1198100181.py:1: DeprecationWarning: Call to deprecated function (or staticmethod) from_defaults. (ServiceContext is deprecated, please use `llama_index.settings.Settings` instead.) -- Deprecated since version 0.10.0.\n",
      "  service_context = ServiceContext.from_defaults(llm=None,embed_model=embeddings)\n"
     ]
    },
    {
     "name": "stdout",
     "output_type": "stream",
     "text": [
      "LLM is explicitly disabled. Using MockLLM.\n"
     ]
    }
   ],
   "source": [
    "service_context = ServiceContext.from_defaults(llm=None,embed_model=embeddings)"
   ]
  },
  {
   "cell_type": "code",
   "execution_count": 29,
   "metadata": {
    "id": "2dibSEfMzKh5"
   },
   "outputs": [],
   "source": [
    "vs = VectorStoreIndex(nodes=final_nodes,service_context=service_context)"
   ]
  },
  {
   "cell_type": "code",
   "execution_count": 48,
   "metadata": {},
   "outputs": [],
   "source": [
    "vs.storage_context.persist('../Data/Index/Galvin_index')"
   ]
  },
  {
   "cell_type": "code",
   "execution_count": 45,
   "metadata": {
    "id": "Vp-X8JGcz-9U"
   },
   "outputs": [],
   "source": [
    "query_engine = vs.as_query_engine(similarity_top_k=1)\n"
   ]
  },
  {
   "cell_type": "code",
   "execution_count": 46,
   "metadata": {
    "id": "QWPPbh4y1m62"
   },
   "outputs": [],
   "source": [
    "response = query_engine.query(\"Explain virtual file systems  \")"
   ]
  },
  {
   "cell_type": "code",
   "execution_count": 47,
   "metadata": {
    "colab": {
     "base_uri": "https://localhost:8080/"
    },
    "id": "zfLr9dsp43tQ",
    "outputId": "1a646979-6b23-4263-8431-6026b6603d07"
   },
   "outputs": [
    {
     "name": "stdout",
     "output_type": "stream",
     "text": [
      "Context information is below.\n",
      "---------------------\n",
      "source: Galvin\n",
      "\n",
      " mounted there. The\n",
      "mount table entry contains a pointer to the superblock of the file system on\n",
      "that device. This scheme enables the operating system to traverse its directory\n",
      "structure, switching seamlessly among file systems of varying types.\n",
      "\n",
      "\n",
      "**15.4** **File Sharing**\n",
      "\n",
      "The ability to share files is very desirable for users who want to collaborate\n",
      "and to reduce the effort required to achieve a computing goal. Therefore, useroriented operating systems must accommodate the need to share files in spite\n",
      "of the inherent difficulties.\n",
      "\n",
      "In this section, we examine more aspects of file sharing. We begin by\n",
      "\n",
      "discussing general issues that arise when multiple users share files. Once\n",
      "multiple users are allowed to share files, the challenge is to extend sharing to\n",
      "multiple file systems, including remote file systems; we discuss that challenge\n",
      "as well. Finally, we consider what to do about conflicting actions occurring on\n",
      "shared files. For instance, if multiple users are writing to a file, should all the\n",
      "writes be allowed to occur, or should the operating system protect the users’\n",
      "actions from one another?\n",
      "\n",
      "\n",
      "**15.4.1** **Multiple Users**\n",
      "\n",
      "When an operating system accommodates multiple users, the issues of file\n",
      "sharing, file naming, and file protection become preeminent. Given a directory\n",
      "structure that allows files to be shared by users, the system must mediate the\n",
      "file sharing. The system can either allow a user to access the files of other users\n",
      "\n",
      "\n",
      "-----\n",
      "\n",
      "**15.5** **Virtual File Systems** **603**\n",
      "\n",
      "\n",
      "by default or require that a user specifically grant access to the files. These are\n",
      "the issues of access control and protection, which are covered in Section 13.4.\n",
      "\n",
      "To implement sharing and protection, the system must maintain more file\n",
      "\n",
      "and directory attributes than are needed on a single-user system. Although\n",
      "many approaches have been taken to meet this requirement, most systems have\n",
      "evolved to use the concepts of file (or directory) **owner** (or **user** ) and **group** . The\n",
      "owner is the user who can change attributes and grant access and who has the\n",
      "most control over the file. The group attribute defines a subset of users who\n",
      "can share access to the file. For example, the owner of a file on a UNIX system\n",
      "can issue all operations on a file, while members of the file’s group can execute\n",
      "one subset of those operations, and all other users can execute another subset\n",
      "of operations. Exactly which operations can be executed by group members\n",
      "---------------------\n",
      "Given the context information and not prior knowledge, answer the query.\n",
      "Query: Explain virtual file systems  \n",
      "Answer: \n"
     ]
    }
   ],
   "source": [
    "print(response.response)"
   ]
  },
  {
   "cell_type": "code",
   "execution_count": null,
   "metadata": {
    "execution": {
     "iopub.execute_input": "2024-05-29T12:57:02.419157Z",
     "iopub.status.busy": "2024-05-29T12:57:02.418451Z",
     "iopub.status.idle": "2024-05-29T12:57:02.424880Z",
     "shell.execute_reply": "2024-05-29T12:57:02.423753Z",
     "shell.execute_reply.started": "2024-05-29T12:57:02.419123Z"
    },
    "id": "GpGE4NUB__l9"
   },
   "outputs": [],
   "source": [
    "adef create_histogram(lengths, bins=10, title=\"Histogram of Lengths\", xlabel=\"Length\", ylabel=\"Frequency\"):\n",
    "\n",
    "    plt.hist(lengths, bins=bins, edgecolor='black')\n",
    "    plt.title(title)\n",
    "    plt.xlabel(xlabel)\n",
    "    plt.ylabel(ylabel)\n",
    "    plt.grid(True)\n",
    "    plt.show()"
   ]
  },
  {
   "cell_type": "code",
   "execution_count": null,
   "metadata": {
    "colab": {
     "base_uri": "https://localhost:8080/"
    },
    "id": "yKIm8fOlswBN",
    "outputId": "7c3e3dea-488e-4600-93f0-955604578e5b"
   },
   "outputs": [
    {
     "data": {
      "text/plain": [
       "0"
      ]
     },
     "execution_count": 87,
     "metadata": {},
     "output_type": "execute_result"
    }
   ],
   "source": [
    "np.array(lens).min()"
   ]
  },
  {
   "cell_type": "code",
   "execution_count": null,
   "metadata": {
    "colab": {
     "base_uri": "https://localhost:8080/",
     "height": 472
    },
    "execution": {
     "iopub.execute_input": "2024-05-29T12:57:03.182626Z",
     "iopub.status.busy": "2024-05-29T12:57:03.181920Z",
     "iopub.status.idle": "2024-05-29T12:57:03.479902Z",
     "shell.execute_reply": "2024-05-29T12:57:03.478948Z",
     "shell.execute_reply.started": "2024-05-29T12:57:03.182593Z"
    },
    "id": "iERFs69p__l9",
    "outputId": "21e3e192-6120-4c08-f658-a707a1968697"
   },
   "outputs": [
    {
     "data": {
      "image/png": "[encoded data removed]",
      "text/plain": [
       "<Figure size 640x480 with 1 Axes>"
      ]
     },
     "metadata": {},
     "output_type": "display_data"
    }
   ],
   "source": [
    "create_histogram(lens, bins=20, title=\"Distribution of Chunks\", xlabel=\"Length\", ylabel=\"Count\")"
   ]
  },
  {
   "cell_type": "code",
   "execution_count": null,
   "metadata": {
    "colab": {
     "base_uri": "https://localhost:8080/"
    },
    "execution": {
     "iopub.execute_input": "2024-05-29T12:57:48.852699Z",
     "iopub.status.busy": "2024-05-29T12:57:48.852299Z",
     "iopub.status.idle": "2024-05-29T12:57:48.859751Z",
     "shell.execute_reply": "2024-05-29T12:57:48.858804Z",
     "shell.execute_reply.started": "2024-05-29T12:57:48.852669Z"
    },
    "id": "XD6BVO7G__l9",
    "outputId": "69133ca7-f841-486e-b632-f7471e6e0620"
   },
   "outputs": [
    {
     "data": {
      "text/plain": [
       "(1246.0028735632184, 7790, 401)"
      ]
     },
     "execution_count": 24,
     "metadata": {},
     "output_type": "execute_result"
    }
   ],
   "source": [
    "np.array(lens).mean(), np.array(lens).max() , np.array(lens).min()"
   ]
  },
  {
   "cell_type": "code",
   "execution_count": null,
   "metadata": {
    "colab": {
     "base_uri": "https://localhost:8080/"
    },
    "id": "WX7wmbj4vGC3",
    "outputId": "e3978189-6ea3-4182-9570-889b4248d7f2"
   },
   "outputs": [
    {
     "data": {
      "text/plain": [
       "TextNode(id_='1e4c4699-ab27-4ff0-8c34-801587a4ad6e', embedding=None, metadata={'file_path': 'Galvin.txt', 'file_name': 'Galvin.txt', 'file_type': 'text/plain', 'file_size': 2993921, 'creation_date': '2024-06-25', 'last_modified_date': '2024-06-25'}, excluded_embed_metadata_keys=['file_name', 'file_type', 'file_size', 'creation_date', 'last_modified_date', 'last_accessed_date'], excluded_llm_metadata_keys=['file_name', 'file_type', 'file_size', 'creation_date', 'last_modified_date', 'last_accessed_date'], relationships={<NodeRelationship.SOURCE: '1'>: RelatedNodeInfo(node_id='6f0289d6-0f1d-4fa3-89b2-ddf4733d8ccb', node_type=<ObjectType.DOCUMENT: '4'>, metadata={'file_path': 'Galvin.txt', 'file_name': 'Galvin.txt', 'file_type': 'text/plain', 'file_size': 2993921, 'creation_date': '2024-06-25', 'last_modified_date': '2024-06-25'}, hash='2655c7bbb2a9716653089c20a7fbc179102413b83145929870e5f260a69dc900'), <NodeRelationship.NEXT: '3'>: RelatedNodeInfo(node_id='825280de-0e33-4825-a839-3a17742b3177', node_type=<ObjectType.TEXT: '1'>, metadata={}, hash='81cc4eac057a4d7e6d649891bb0a44c3b84b002806bef2b3a8a7a6824b5f395b')}, text='### Introduction\\n\\nAn **operating system** is software that manages a computer’s hardware. It\\nalso provides a basis for application programs and acts as an intermediary\\nbetween the computer user and the computer hardware. An amazing aspect\\nof operating systems is how they vary in accomplishing these tasks in a wide\\nvariety of computing environments. Operating systems are everywhere, from\\ncars and home appliances that include “ Internet of Things ” devices, to smart\\nphones, personal computers, enterprise computers, and cloud computing environments.\\n\\nIn order to explore the role of an operating system in a modern computing\\n\\nenvironment, it is important first to understand the organization and architecture of computer hardware. This includes the CPU , memory, and I/O devices,\\nas well as storage. A fundamental responsibility of an operating system is to\\nallocate these resources to programs.\\n\\nBecause an operating system is large and complex, it must be created\\n\\npiece by piece. Each of these pieces should be a well-delineated portion of the\\nsystem, with carefully defined inputs, outputs, and functions. In this chapter,\\nwe provide a general overview of the major components of a contemporary\\ncomputer system as well as the functions provided by the operating system.\\nAdditionally, we cover several topics to help set the stage for the remainder of\\nthe text: data structures used in operating systems, computing environments,\\nand open-source and free operating systems.\\n\\n\\n**CHAPTER OBJECTIVES**\\n\\n-  Describe the general organization of a computer system and the role of\\n\\ninterrupts.\\n\\n-  Describe the components in a modern multiprocessor computer system.\\n\\n-  Illustrate the transition from user mode to kernel mode.\\n\\n-  Discuss how operating systems are used in various computing environ-\\n\\nments.\\n\\n-  Provide examples of free and open-source operating systems.\\n\\n\\n-----\\n\\n**4** **Chapter 1** **Introduction**\\n\\n**1.1** **What Operating Systems Do**\\n\\nWe begin our discussion by looking at the operating system’s role in the\\noverall computer system. A computer system can be divided roughly into four\\ncomponents: the **_hardware,_** the **_operating system,_** the **_application programs,_**\\nand a **_user_** (Figure 1.1).\\n\\nThe **hardware** —the central processing unit ( CPU ), the memory, and the\\n\\ninput/output ( I/O ) devices—provides the basic computing resources for the\\nsystem. The **application programs** —such as word processors, spreadsheets,\\ncompilers, and web browsers—define the ways in which these resources are\\nused to solve users’ computing problems. The operating system controls the\\nhardware and coordinates its use among the various application programs for\\nthe various users.\\n\\nWe can also view a computer system as consisting of hardware, software,\\n\\nand data. The operating system provides the means for proper use of these\\nresources in the operation of the computer system. An operating system is\\nsimilar to a government. Like a government, it performs no useful function\\nby itself. It simply provides an **_environment_** within which other programs can\\ndo useful work.\\n\\nTo understand more fully the operating system’s role, we next explore\\n\\noperating systems from two viewpoints: that of the user and that of the system.\\n\\n\\n**1.1.1** **User View**\\n\\nThe user’s view of the computer varies according to the interface being used.\\nMany computer users sit with a laptop or in front of a PC consisting of a\\nmonitor, keyboard, and mouse. Such a system is designed for one user to\\nmonopolize its resources. The goal is to maximize the work (or play) that the\\nuser is performing. In this case, the operating system is designed mostly for\\n**ease of use** , with some attention paid to performance and security and none\\npaid to **resource utilization** —how various hardware and software resources\\nare shared.\\n\\n\\n\\n\\n**Figure 1.1** Abstract view of the components of a computer system.\\n\\n\\n-----\\n\\n**1.1** **What Operating Systems Do** **5**\\n\\nIncreasingly, many users interact with mobile devices such as smartphones\\n\\nand tablets—devices that are replacing desktop and laptop computer systems\\nfor some users. These devices are typically connected to networks through\\ncellular or other wireless technologies. The user interface for mobile computers\\ngenerally features a **touch screen** , where the user interacts with the system by\\npressing and swiping fingers across the screen rather than using a physical\\nkeyboard and mouse. Many mobile devices also allow users to interact through\\na **voice recognition** interface, such as Apple’s **Siri** .\\n\\nSome computers have little or no user view. For example, **embedded com-**\\n\\n**puters** in home devices and automobiles may have numeric keypads and may\\nturn indicator lights on or off to show status, but they and their operating systems and applications are designed primarily to run without user intervention.\\n\\n\\n**1.1.2** **System View**\\n\\nFrom the computer’s point of view, the operating system is the program most\\nintimately involved with the hardware. In this context, we can view an operating system as a **resource allocator** . A computer system has many resources\\nthat may be required to solve a problem: CPU time, memory space, storage\\nspace, I/O devices, and so on. The operating system acts as the manager of these\\nresources. Facing numerous and possibly conflicting requests for resources, the\\noperating system must decide how to allocate them to specific programs and\\nusers so that it can operate the computer system efficiently and fairly.\\n\\nA slightly different view of an operating system emphasizes the need to\\n\\ncontrol the various I/O devices and user programs. An operating system is a\\ncontrol program. A **control program** manages the execution of user programs\\nto prevent errors and improper use of the computer. It is especially concerned\\nwith the operation and control of I/O devices.\\n\\n**1.1.3** **Defining Operating Systems**\\n\\nBy now, you can probably see that the term **_operating system_** covers many\\nroles and functions. That is the case, at least in part, because of the myriad\\ndesigns and uses of computers. ', mimetype='text/plain', start_char_idx=0, end_char_idx=6096, text_template='{metadata_str}\\n\\n{content}', metadata_template='{key}: {value}', metadata_seperator='\\n')"
      ]
     },
     "execution_count": 101,
     "metadata": {},
     "output_type": "execute_result"
    }
   ],
   "source": [
    "nodes[0]"
   ]
  }
 ],
 "metadata": {
  "accelerator": "GPU",
  "colab": {
   "gpuType": "T4",
   "provenance": []
  },
  "kaggle": {
   "accelerator": "gpu",
   "dataSources": [
    {
     "datasetId": 5106977,
     "sourceId": 8548303,
     "sourceType": "datasetVersion"
    }
   ],
   "dockerImageVersionId": 30699,
   "isGpuEnabled": true,
   "isInternetEnabled": true,
   "language": "python",
   "sourceType": "notebook"
  },
  "kernelspec": {
   "display_name": "Python 3 (ipykernel)",
   "language": "python",
   "name": "python3"
  },
  "language_info": {
   "codemirror_mode": {
    "name": "ipython",
    "version": 3
   },
   "file_extension": ".py",
   "mimetype": "text/x-python",
   "name": "python",
   "nbconvert_exporter": "python",
   "pygments_lexer": "ipython3",
   "version": "3.8.10"
  },
  "widgets": {
   "application/vnd.jupyter.widget-state+json": {
    "0c6075f13d5340c5a19f4459a0861c32": {
     "model_module": "@jupyter-widgets/base",
     "model_module_version": "1.2.0",
     "model_name": "LayoutModel",
     "state": {
      "_model_module": "@jupyter-widgets/base",
      "_model_module_version": "1.2.0",
      "_model_name": "LayoutModel",
      "_view_count": null,
      "_view_module": "@jupyter-widgets/base",
      "_view_module_version": "1.2.0",
      "_view_name": "LayoutView",
      "align_content": null,
      "align_items": null,
      "align_self": null,
      "border": null,
      "bottom": null,
      "display": null,
      "flex": null,
      "flex_flow": null,
      "grid_area": null,
      "grid_auto_columns": null,
      "grid_auto_flow": null,
      "grid_auto_rows": null,
      "grid_column": null,
      "grid_gap": null,
      "grid_row": null,
      "grid_template_areas": null,
      "grid_template_columns": null,
      "grid_template_rows": null,
      "height": null,
      "justify_content": null,
      "justify_items": null,
      "left": null,
      "margin": null,
      "max_height": null,
      "max_width": null,
      "min_height": null,
      "min_width": null,
      "object_fit": null,
      "object_position": null,
      "order": null,
      "overflow": null,
      "overflow_x": null,
      "overflow_y": null,
      "padding": null,
      "right": null,
      "top": null,
      "visibility": null,
      "width": null
     }
    },
    "13459eace38e4977a5aee9b65c5ee8c7": {
     "model_module": "@jupyter-widgets/controls",
     "model_module_version": "1.5.0",
     "model_name": "FloatProgressModel",
     "state": {
      "_dom_classes": [],
      "_model_module": "@jupyter-widgets/controls",
      "_model_module_version": "1.5.0",
      "_model_name": "FloatProgressModel",
      "_view_count": null,
      "_view_module": "@jupyter-widgets/controls",
      "_view_module_version": "1.5.0",
      "_view_name": "ProgressView",
      "bar_style": "success",
      "description": "",
      "description_tooltip": null,
      "layout": "IPY_MODEL_1385f581232745debae3360ec821271e",
      "max": 1340616616,
      "min": 0,
      "orientation": "horizontal",
      "style": "IPY_MODEL_4ad3ef75730a478a84be5e99cb79a7d4",
      "value": 1340616616
     }
    },
    "1385f581232745debae3360ec821271e": {
     "model_module": "@jupyter-widgets/base",
     "model_module_version": "1.2.0",
     "model_name": "LayoutModel",
     "state": {
      "_model_module": "@jupyter-widgets/base",
      "_model_module_version": "1.2.0",
      "_model_name": "LayoutModel",
      "_view_count": null,
      "_view_module": "@jupyter-widgets/base",
      "_view_module_version": "1.2.0",
      "_view_name": "LayoutView",
      "align_content": null,
      "align_items": null,
      "align_self": null,
      "border": null,
      "bottom": null,
      "display": null,
      "flex": null,
      "flex_flow": null,
      "grid_area": null,
      "grid_auto_columns": null,
      "grid_auto_flow": null,
      "grid_auto_rows": null,
      "grid_column": null,
      "grid_gap": null,
      "grid_row": null,
      "grid_template_areas": null,
      "grid_template_columns": null,
      "grid_template_rows": null,
      "height": null,
      "justify_content": null,
      "justify_items": null,
      "left": null,
      "margin": null,
      "max_height": null,
      "max_width": null,
      "min_height": null,
      "min_width": null,
      "object_fit": null,
      "object_position": null,
      "order": null,
      "overflow": null,
      "overflow_x": null,
      "overflow_y": null,
      "padding": null,
      "right": null,
      "top": null,
      "visibility": null,
      "width": null
     }
    },
    "147b1933f5f749d097828006534956a8": {
     "model_module": "@jupyter-widgets/base",
     "model_module_version": "1.2.0",
     "model_name": "LayoutModel",
     "state": {
      "_model_module": "@jupyter-widgets/base",
      "_model_module_version": "1.2.0",
      "_model_name": "LayoutModel",
      "_view_count": null,
      "_view_module": "@jupyter-widgets/base",
      "_view_module_version": "1.2.0",
      "_view_name": "LayoutView",
      "align_content": null,
      "align_items": null,
      "align_self": null,
      "border": null,
      "bottom": null,
      "display": null,
      "flex": null,
      "flex_flow": null,
      "grid_area": null,
      "grid_auto_columns": null,
      "grid_auto_flow": null,
      "grid_auto_rows": null,
      "grid_column": null,
      "grid_gap": null,
      "grid_row": null,
      "grid_template_areas": null,
      "grid_template_columns": null,
      "grid_template_rows": null,
      "height": null,
      "justify_content": null,
      "justify_items": null,
      "left": null,
      "margin": null,
      "max_height": null,
      "max_width": null,
      "min_height": null,
      "min_width": null,
      "object_fit": null,
      "object_position": null,
      "order": null,
      "overflow": null,
      "overflow_x": null,
      "overflow_y": null,
      "padding": null,
      "right": null,
      "top": null,
      "visibility": null,
      "width": null
     }
    },
    "1483833528c04cc79ba98548b8ce7380": {
     "model_module": "@jupyter-widgets/controls",
     "model_module_version": "1.5.0",
     "model_name": "FloatProgressModel",
     "state": {
      "_dom_classes": [],
      "_model_module": "@jupyter-widgets/controls",
      "_model_module_version": "1.5.0",
      "_model_name": "FloatProgressModel",
      "_view_count": null,
      "_view_module": "@jupyter-widgets/controls",
      "_view_module_version": "1.5.0",
      "_view_name": "ProgressView",
      "bar_style": "success",
      "description": "",
      "description_tooltip": null,
      "layout": "IPY_MODEL_0c6075f13d5340c5a19f4459a0861c32",
      "max": 94607,
      "min": 0,
      "orientation": "horizontal",
      "style": "IPY_MODEL_d23f1eedb0ef42848b3a8acb1d6d4a0b",
      "value": 94607
     }
    },
    "158401abf34c4e00a8846b355d657ef7": {
     "model_module": "@jupyter-widgets/controls",
     "model_module_version": "1.5.0",
     "model_name": "HBoxModel",
     "state": {
      "_dom_classes": [],
      "_model_module": "@jupyter-widgets/controls",
      "_model_module_version": "1.5.0",
      "_model_name": "HBoxModel",
      "_view_count": null,
      "_view_module": "@jupyter-widgets/controls",
      "_view_module_version": "1.5.0",
      "_view_name": "HBoxView",
      "box_style": "",
      "children": [
       "IPY_MODEL_6c6b5b557aee4ca998aa68594aae1555",
       "IPY_MODEL_52f3cd25063843d09dd28d760293a469",
       "IPY_MODEL_b2cc7150ff3b4d909b9d10e3f8dd6e60"
      ],
      "layout": "IPY_MODEL_ccb38009ee6a4c48abe48fb11409ee4a"
     }
    },
    "16e3e9b23fd14a67b77c4b671dbbda25": {
     "model_module": "@jupyter-widgets/controls",
     "model_module_version": "1.5.0",
     "model_name": "HTMLModel",
     "state": {
      "_dom_classes": [],
      "_model_module": "@jupyter-widgets/controls",
      "_model_module_version": "1.5.0",
      "_model_name": "HTMLModel",
      "_view_count": null,
      "_view_module": "@jupyter-widgets/controls",
      "_view_module_version": "1.5.0",
      "_view_name": "HTMLView",
      "description": "",
      "description_tooltip": null,
      "layout": "IPY_MODEL_a351cd16398448ceb20bcb2019f73888",
      "placeholder": "​",
      "style": "IPY_MODEL_fb91bfd36085485dae076f8340752b83",
      "value": "model.safetensors: 100%"
     }
    },
    "1d04cc093e974eec82bae92d1772a1ad": {
     "model_module": "@jupyter-widgets/controls",
     "model_module_version": "1.5.0",
     "model_name": "DescriptionStyleModel",
     "state": {
      "_model_module": "@jupyter-widgets/controls",
      "_model_module_version": "1.5.0",
      "_model_name": "DescriptionStyleModel",
      "_view_count": null,
      "_view_module": "@jupyter-widgets/base",
      "_view_module_version": "1.2.0",
      "_view_name": "StyleView",
      "description_width": ""
     }
    },
    "23450d1e8561464381552d7633643cfd": {
     "model_module": "@jupyter-widgets/controls",
     "model_module_version": "1.5.0",
     "model_name": "DescriptionStyleModel",
     "state": {
      "_model_module": "@jupyter-widgets/controls",
      "_model_module_version": "1.5.0",
      "_model_name": "DescriptionStyleModel",
      "_view_count": null,
      "_view_module": "@jupyter-widgets/base",
      "_view_module_version": "1.2.0",
      "_view_name": "StyleView",
      "description_width": ""
     }
    },
    "23ae86bef6e541698e8990e8fe3860dc": {
     "model_module": "@jupyter-widgets/controls",
     "model_module_version": "1.5.0",
     "model_name": "HTMLModel",
     "state": {
      "_dom_classes": [],
      "_model_module": "@jupyter-widgets/controls",
      "_model_module_version": "1.5.0",
      "_model_name": "HTMLModel",
      "_view_count": null,
      "_view_module": "@jupyter-widgets/controls",
      "_view_module_version": "1.5.0",
      "_view_name": "HTMLView",
      "description": "",
      "description_tooltip": null,
      "layout": "IPY_MODEL_3c31d1376e5c44759de2dcd696de6620",
      "placeholder": "​",
      "style": "IPY_MODEL_f9f19c72c1c54759bd16caf9266f094b",
      "value": " 349/349 [00:00&lt;00:00, 25.1kB/s]"
     }
    },
    "2857bbc7c2a44daeb667dd7e482ee7f5": {
     "model_module": "@jupyter-widgets/controls",
     "model_module_version": "1.5.0",
     "model_name": "DescriptionStyleModel",
     "state": {
      "_model_module": "@jupyter-widgets/controls",
      "_model_module_version": "1.5.0",
      "_model_name": "DescriptionStyleModel",
      "_view_count": null,
      "_view_module": "@jupyter-widgets/base",
      "_view_module_version": "1.2.0",
      "_view_name": "StyleView",
      "description_width": ""
     }
    },
    "2c032c013d314fc99d76737f91ed5402": {
     "model_module": "@jupyter-widgets/controls",
     "model_module_version": "1.5.0",
     "model_name": "DescriptionStyleModel",
     "state": {
      "_model_module": "@jupyter-widgets/controls",
      "_model_module_version": "1.5.0",
      "_model_name": "DescriptionStyleModel",
      "_view_count": null,
      "_view_module": "@jupyter-widgets/base",
      "_view_module_version": "1.2.0",
      "_view_name": "StyleView",
      "description_width": ""
     }
    },
    "2cf274c258884734ae5e5b3c5cfd3e0a": {
     "model_module": "@jupyter-widgets/controls",
     "model_module_version": "1.5.0",
     "model_name": "ProgressStyleModel",
     "state": {
      "_model_module": "@jupyter-widgets/controls",
      "_model_module_version": "1.5.0",
      "_model_name": "ProgressStyleModel",
      "_view_count": null,
      "_view_module": "@jupyter-widgets/base",
      "_view_module_version": "1.2.0",
      "_view_name": "StyleView",
      "bar_color": null,
      "description_width": ""
     }
    },
    "323c58fb557347a189766053fbf01774": {
     "model_module": "@jupyter-widgets/controls",
     "model_module_version": "1.5.0",
     "model_name": "ProgressStyleModel",
     "state": {
      "_model_module": "@jupyter-widgets/controls",
      "_model_module_version": "1.5.0",
      "_model_name": "ProgressStyleModel",
      "_view_count": null,
      "_view_module": "@jupyter-widgets/base",
      "_view_module_version": "1.2.0",
      "_view_name": "StyleView",
      "bar_color": null,
      "description_width": ""
     }
    },
    "33f5639d2eaf416988891365d5856552": {
     "model_module": "@jupyter-widgets/base",
     "model_module_version": "1.2.0",
     "model_name": "LayoutModel",
     "state": {
      "_model_module": "@jupyter-widgets/base",
      "_model_module_version": "1.2.0",
      "_model_name": "LayoutModel",
      "_view_count": null,
      "_view_module": "@jupyter-widgets/base",
      "_view_module_version": "1.2.0",
      "_view_name": "LayoutView",
      "align_content": null,
      "align_items": null,
      "align_self": null,
      "border": null,
      "bottom": null,
      "display": null,
      "flex": null,
      "flex_flow": null,
      "grid_area": null,
      "grid_auto_columns": null,
      "grid_auto_flow": null,
      "grid_auto_rows": null,
      "grid_column": null,
      "grid_gap": null,
      "grid_row": null,
      "grid_template_areas": null,
      "grid_template_columns": null,
      "grid_template_rows": null,
      "height": null,
      "justify_content": null,
      "justify_items": null,
      "left": null,
      "margin": null,
      "max_height": null,
      "max_width": null,
      "min_height": null,
      "min_width": null,
      "object_fit": null,
      "object_position": null,
      "order": null,
      "overflow": null,
      "overflow_x": null,
      "overflow_y": null,
      "padding": null,
      "right": null,
      "top": null,
      "visibility": null,
      "width": null
     }
    },
    "36516ce2aa194e858fe17f60916a6b7b": {
     "model_module": "@jupyter-widgets/controls",
     "model_module_version": "1.5.0",
     "model_name": "DescriptionStyleModel",
     "state": {
      "_model_module": "@jupyter-widgets/controls",
      "_model_module_version": "1.5.0",
      "_model_name": "DescriptionStyleModel",
      "_view_count": null,
      "_view_module": "@jupyter-widgets/base",
      "_view_module_version": "1.2.0",
      "_view_name": "StyleView",
      "description_width": ""
     }
    },
    "3c31d1376e5c44759de2dcd696de6620": {
     "model_module": "@jupyter-widgets/base",
     "model_module_version": "1.2.0",
     "model_name": "LayoutModel",
     "state": {
      "_model_module": "@jupyter-widgets/base",
      "_model_module_version": "1.2.0",
      "_model_name": "LayoutModel",
      "_view_count": null,
      "_view_module": "@jupyter-widgets/base",
      "_view_module_version": "1.2.0",
      "_view_name": "LayoutView",
      "align_content": null,
      "align_items": null,
      "align_self": null,
      "border": null,
      "bottom": null,
      "display": null,
      "flex": null,
      "flex_flow": null,
      "grid_area": null,
      "grid_auto_columns": null,
      "grid_auto_flow": null,
      "grid_auto_rows": null,
      "grid_column": null,
      "grid_gap": null,
      "grid_row": null,
      "grid_template_areas": null,
      "grid_template_columns": null,
      "grid_template_rows": null,
      "height": null,
      "justify_content": null,
      "justify_items": null,
      "left": null,
      "margin": null,
      "max_height": null,
      "max_width": null,
      "min_height": null,
      "min_width": null,
      "object_fit": null,
      "object_position": null,
      "order": null,
      "overflow": null,
      "overflow_x": null,
      "overflow_y": null,
      "padding": null,
      "right": null,
      "top": null,
      "visibility": null,
      "width": null
     }
    },
    "42089462de98445d8e6dc49a1ae87332": {
     "model_module": "@jupyter-widgets/base",
     "model_module_version": "1.2.0",
     "model_name": "LayoutModel",
     "state": {
      "_model_module": "@jupyter-widgets/base",
      "_model_module_version": "1.2.0",
      "_model_name": "LayoutModel",
      "_view_count": null,
      "_view_module": "@jupyter-widgets/base",
      "_view_module_version": "1.2.0",
      "_view_name": "LayoutView",
      "align_content": null,
      "align_items": null,
      "align_self": null,
      "border": null,
      "bottom": null,
      "display": null,
      "flex": null,
      "flex_flow": null,
      "grid_area": null,
      "grid_auto_columns": null,
      "grid_auto_flow": null,
      "grid_auto_rows": null,
      "grid_column": null,
      "grid_gap": null,
      "grid_row": null,
      "grid_template_areas": null,
      "grid_template_columns": null,
      "grid_template_rows": null,
      "height": null,
      "justify_content": null,
      "justify_items": null,
      "left": null,
      "margin": null,
      "max_height": null,
      "max_width": null,
      "min_height": null,
      "min_width": null,
      "object_fit": null,
      "object_position": null,
      "order": null,
      "overflow": null,
      "overflow_x": null,
      "overflow_y": null,
      "padding": null,
      "right": null,
      "top": null,
      "visibility": null,
      "width": null
     }
    },
    "438d37db58c64be0aaacbe6f7c2fa7c0": {
     "model_module": "@jupyter-widgets/controls",
     "model_module_version": "1.5.0",
     "model_name": "HTMLModel",
     "state": {
      "_dom_classes": [],
      "_model_module": "@jupyter-widgets/controls",
      "_model_module_version": "1.5.0",
      "_model_name": "HTMLModel",
      "_view_count": null,
      "_view_module": "@jupyter-widgets/controls",
      "_view_module_version": "1.5.0",
      "_view_name": "HTMLView",
      "description": "",
      "description_tooltip": null,
      "layout": "IPY_MODEL_6b839d289d3f498aae2a81d8056fd3ab",
      "placeholder": "​",
      "style": "IPY_MODEL_2c032c013d314fc99d76737f91ed5402",
      "value": "modules.json: 100%"
     }
    },
    "48fd9dbbe9744a64b7b6053ccaa7c6ee": {
     "model_module": "@jupyter-widgets/base",
     "model_module_version": "1.2.0",
     "model_name": "LayoutModel",
     "state": {
      "_model_module": "@jupyter-widgets/base",
      "_model_module_version": "1.2.0",
      "_model_name": "LayoutModel",
      "_view_count": null,
      "_view_module": "@jupyter-widgets/base",
      "_view_module_version": "1.2.0",
      "_view_name": "LayoutView",
      "align_content": null,
      "align_items": null,
      "align_self": null,
      "border": null,
      "bottom": null,
      "display": null,
      "flex": null,
      "flex_flow": null,
      "grid_area": null,
      "grid_auto_columns": null,
      "grid_auto_flow": null,
      "grid_auto_rows": null,
      "grid_column": null,
      "grid_gap": null,
      "grid_row": null,
      "grid_template_areas": null,
      "grid_template_columns": null,
      "grid_template_rows": null,
      "height": null,
      "justify_content": null,
      "justify_items": null,
      "left": null,
      "margin": null,
      "max_height": null,
      "max_width": null,
      "min_height": null,
      "min_width": null,
      "object_fit": null,
      "object_position": null,
      "order": null,
      "overflow": null,
      "overflow_x": null,
      "overflow_y": null,
      "padding": null,
      "right": null,
      "top": null,
      "visibility": null,
      "width": null
     }
    },
    "4ad3ef75730a478a84be5e99cb79a7d4": {
     "model_module": "@jupyter-widgets/controls",
     "model_module_version": "1.5.0",
     "model_name": "ProgressStyleModel",
     "state": {
      "_model_module": "@jupyter-widgets/controls",
      "_model_module_version": "1.5.0",
      "_model_name": "ProgressStyleModel",
      "_view_count": null,
      "_view_module": "@jupyter-widgets/base",
      "_view_module_version": "1.2.0",
      "_view_name": "StyleView",
      "bar_color": null,
      "description_width": ""
     }
    },
    "4de75fc64de54f8a902474776d87ed96": {
     "model_module": "@jupyter-widgets/controls",
     "model_module_version": "1.5.0",
     "model_name": "HTMLModel",
     "state": {
      "_dom_classes": [],
      "_model_module": "@jupyter-widgets/controls",
      "_model_module_version": "1.5.0",
      "_model_name": "HTMLModel",
      "_view_count": null,
      "_view_module": "@jupyter-widgets/controls",
      "_view_module_version": "1.5.0",
      "_view_name": "HTMLView",
      "description": "",
      "description_tooltip": null,
      "layout": "IPY_MODEL_5feb41e6b9d8464ab2ad894c30adad23",
      "placeholder": "​",
      "style": "IPY_MODEL_2857bbc7c2a44daeb667dd7e482ee7f5",
      "value": " 94.6k/94.6k [00:00&lt;00:00, 1.56MB/s]"
     }
    },
    "52f3cd25063843d09dd28d760293a469": {
     "model_module": "@jupyter-widgets/controls",
     "model_module_version": "1.5.0",
     "model_name": "FloatProgressModel",
     "state": {
      "_dom_classes": [],
      "_model_module": "@jupyter-widgets/controls",
      "_model_module_version": "1.5.0",
      "_model_name": "FloatProgressModel",
      "_view_count": null,
      "_view_module": "@jupyter-widgets/controls",
      "_view_module_version": "1.5.0",
      "_view_name": "ProgressView",
      "bar_style": "success",
      "description": "",
      "description_tooltip": null,
      "layout": "IPY_MODEL_96b1be01445b4108b29d7d90a4a7305a",
      "max": 779,
      "min": 0,
      "orientation": "horizontal",
      "style": "IPY_MODEL_2cf274c258884734ae5e5b3c5cfd3e0a",
      "value": 779
     }
    },
    "54424f03dede48088a4c4ce2e53afe9e": {
     "model_module": "@jupyter-widgets/controls",
     "model_module_version": "1.5.0",
     "model_name": "HBoxModel",
     "state": {
      "_dom_classes": [],
      "_model_module": "@jupyter-widgets/controls",
      "_model_module_version": "1.5.0",
      "_model_name": "HBoxModel",
      "_view_count": null,
      "_view_module": "@jupyter-widgets/controls",
      "_view_module_version": "1.5.0",
      "_view_name": "HBoxView",
      "box_style": "",
      "children": [
       "IPY_MODEL_a67b619e01434c82841d9a6927267403",
       "IPY_MODEL_1483833528c04cc79ba98548b8ce7380",
       "IPY_MODEL_4de75fc64de54f8a902474776d87ed96"
      ],
      "layout": "IPY_MODEL_d3d6595d47f846c398acd1df5295f55d"
     }
    },
    "576f92bc6dda4602bde8da16a689cdbd": {
     "model_module": "@jupyter-widgets/base",
     "model_module_version": "1.2.0",
     "model_name": "LayoutModel",
     "state": {
      "_model_module": "@jupyter-widgets/base",
      "_model_module_version": "1.2.0",
      "_model_name": "LayoutModel",
      "_view_count": null,
      "_view_module": "@jupyter-widgets/base",
      "_view_module_version": "1.2.0",
      "_view_name": "LayoutView",
      "align_content": null,
      "align_items": null,
      "align_self": null,
      "border": null,
      "bottom": null,
      "display": null,
      "flex": null,
      "flex_flow": null,
      "grid_area": null,
      "grid_auto_columns": null,
      "grid_auto_flow": null,
      "grid_auto_rows": null,
      "grid_column": null,
      "grid_gap": null,
      "grid_row": null,
      "grid_template_areas": null,
      "grid_template_columns": null,
      "grid_template_rows": null,
      "height": null,
      "justify_content": null,
      "justify_items": null,
      "left": null,
      "margin": null,
      "max_height": null,
      "max_width": null,
      "min_height": null,
      "min_width": null,
      "object_fit": null,
      "object_position": null,
      "order": null,
      "overflow": null,
      "overflow_x": null,
      "overflow_y": null,
      "padding": null,
      "right": null,
      "top": null,
      "visibility": null,
      "width": null
     }
    },
    "59a2c72b08624e2b9ab5c84691f9d3b0": {
     "model_module": "@jupyter-widgets/controls",
     "model_module_version": "1.5.0",
     "model_name": "FloatProgressModel",
     "state": {
      "_dom_classes": [],
      "_model_module": "@jupyter-widgets/controls",
      "_model_module_version": "1.5.0",
      "_model_name": "FloatProgressModel",
      "_view_count": null,
      "_view_module": "@jupyter-widgets/controls",
      "_view_module_version": "1.5.0",
      "_view_name": "ProgressView",
      "bar_style": "success",
      "description": "",
      "description_tooltip": null,
      "layout": "IPY_MODEL_800f4269f2e8495cb116b677476ce7d3",
      "max": 349,
      "min": 0,
      "orientation": "horizontal",
      "style": "IPY_MODEL_cbe8e6ca8b4e4b0ca024b61336e4203b",
      "value": 349
     }
    },
    "5b5d4b9c809c4516837bb1f967acb706": {
     "model_module": "@jupyter-widgets/base",
     "model_module_version": "1.2.0",
     "model_name": "LayoutModel",
     "state": {
      "_model_module": "@jupyter-widgets/base",
      "_model_module_version": "1.2.0",
      "_model_name": "LayoutModel",
      "_view_count": null,
      "_view_module": "@jupyter-widgets/base",
      "_view_module_version": "1.2.0",
      "_view_name": "LayoutView",
      "align_content": null,
      "align_items": null,
      "align_self": null,
      "border": null,
      "bottom": null,
      "display": null,
      "flex": null,
      "flex_flow": null,
      "grid_area": null,
      "grid_auto_columns": null,
      "grid_auto_flow": null,
      "grid_auto_rows": null,
      "grid_column": null,
      "grid_gap": null,
      "grid_row": null,
      "grid_template_areas": null,
      "grid_template_columns": null,
      "grid_template_rows": null,
      "height": null,
      "justify_content": null,
      "justify_items": null,
      "left": null,
      "margin": null,
      "max_height": null,
      "max_width": null,
      "min_height": null,
      "min_width": null,
      "object_fit": null,
      "object_position": null,
      "order": null,
      "overflow": null,
      "overflow_x": null,
      "overflow_y": null,
      "padding": null,
      "right": null,
      "top": null,
      "visibility": null,
      "width": null
     }
    },
    "5feb41e6b9d8464ab2ad894c30adad23": {
     "model_module": "@jupyter-widgets/base",
     "model_module_version": "1.2.0",
     "model_name": "LayoutModel",
     "state": {
      "_model_module": "@jupyter-widgets/base",
      "_model_module_version": "1.2.0",
      "_model_name": "LayoutModel",
      "_view_count": null,
      "_view_module": "@jupyter-widgets/base",
      "_view_module_version": "1.2.0",
      "_view_name": "LayoutView",
      "align_content": null,
      "align_items": null,
      "align_self": null,
      "border": null,
      "bottom": null,
      "display": null,
      "flex": null,
      "flex_flow": null,
      "grid_area": null,
      "grid_auto_columns": null,
      "grid_auto_flow": null,
      "grid_auto_rows": null,
      "grid_column": null,
      "grid_gap": null,
      "grid_row": null,
      "grid_template_areas": null,
      "grid_template_columns": null,
      "grid_template_rows": null,
      "height": null,
      "justify_content": null,
      "justify_items": null,
      "left": null,
      "margin": null,
      "max_height": null,
      "max_width": null,
      "min_height": null,
      "min_width": null,
      "object_fit": null,
      "object_position": null,
      "order": null,
      "overflow": null,
      "overflow_x": null,
      "overflow_y": null,
      "padding": null,
      "right": null,
      "top": null,
      "visibility": null,
      "width": null
     }
    },
    "664a6d65d8e940b881e9bde472358458": {
     "model_module": "@jupyter-widgets/controls",
     "model_module_version": "1.5.0",
     "model_name": "HTMLModel",
     "state": {
      "_dom_classes": [],
      "_model_module": "@jupyter-widgets/controls",
      "_model_module_version": "1.5.0",
      "_model_name": "HTMLModel",
      "_view_count": null,
      "_view_module": "@jupyter-widgets/controls",
      "_view_module_version": "1.5.0",
      "_view_name": "HTMLView",
      "description": "",
      "description_tooltip": null,
      "layout": "IPY_MODEL_972b81897a2549cb86bb1bfe6bac1e7b",
      "placeholder": "​",
      "style": "IPY_MODEL_89219c31055543e39deafeb13dab4a63",
      "value": " 124/124 [00:00&lt;00:00, 9.58kB/s]"
     }
    },
    "676f89e4f4b64d59966212e98a779b68": {
     "model_module": "@jupyter-widgets/controls",
     "model_module_version": "1.5.0",
     "model_name": "DescriptionStyleModel",
     "state": {
      "_model_module": "@jupyter-widgets/controls",
      "_model_module_version": "1.5.0",
      "_model_name": "DescriptionStyleModel",
      "_view_count": null,
      "_view_module": "@jupyter-widgets/base",
      "_view_module_version": "1.2.0",
      "_view_name": "StyleView",
      "description_width": ""
     }
    },
    "6b56162673334fd7923deb7ce5bdb92a": {
     "model_module": "@jupyter-widgets/controls",
     "model_module_version": "1.5.0",
     "model_name": "HBoxModel",
     "state": {
      "_dom_classes": [],
      "_model_module": "@jupyter-widgets/controls",
      "_model_module_version": "1.5.0",
      "_model_name": "HBoxModel",
      "_view_count": null,
      "_view_module": "@jupyter-widgets/controls",
      "_view_module_version": "1.5.0",
      "_view_name": "HBoxView",
      "box_style": "",
      "children": [
       "IPY_MODEL_438d37db58c64be0aaacbe6f7c2fa7c0",
       "IPY_MODEL_59a2c72b08624e2b9ab5c84691f9d3b0",
       "IPY_MODEL_23ae86bef6e541698e8990e8fe3860dc"
      ],
      "layout": "IPY_MODEL_576f92bc6dda4602bde8da16a689cdbd"
     }
    },
    "6b839d289d3f498aae2a81d8056fd3ab": {
     "model_module": "@jupyter-widgets/base",
     "model_module_version": "1.2.0",
     "model_name": "LayoutModel",
     "state": {
      "_model_module": "@jupyter-widgets/base",
      "_model_module_version": "1.2.0",
      "_model_name": "LayoutModel",
      "_view_count": null,
      "_view_module": "@jupyter-widgets/base",
      "_view_module_version": "1.2.0",
      "_view_name": "LayoutView",
      "align_content": null,
      "align_items": null,
      "align_self": null,
      "border": null,
      "bottom": null,
      "display": null,
      "flex": null,
      "flex_flow": null,
      "grid_area": null,
      "grid_auto_columns": null,
      "grid_auto_flow": null,
      "grid_auto_rows": null,
      "grid_column": null,
      "grid_gap": null,
      "grid_row": null,
      "grid_template_areas": null,
      "grid_template_columns": null,
      "grid_template_rows": null,
      "height": null,
      "justify_content": null,
      "justify_items": null,
      "left": null,
      "margin": null,
      "max_height": null,
      "max_width": null,
      "min_height": null,
      "min_width": null,
      "object_fit": null,
      "object_position": null,
      "order": null,
      "overflow": null,
      "overflow_x": null,
      "overflow_y": null,
      "padding": null,
      "right": null,
      "top": null,
      "visibility": null,
      "width": null
     }
    },
    "6c6b5b557aee4ca998aa68594aae1555": {
     "model_module": "@jupyter-widgets/controls",
     "model_module_version": "1.5.0",
     "model_name": "HTMLModel",
     "state": {
      "_dom_classes": [],
      "_model_module": "@jupyter-widgets/controls",
      "_model_module_version": "1.5.0",
      "_model_name": "HTMLModel",
      "_view_count": null,
      "_view_module": "@jupyter-widgets/controls",
      "_view_module_version": "1.5.0",
      "_view_name": "HTMLView",
      "description": "",
      "description_tooltip": null,
      "layout": "IPY_MODEL_d4c65c3a8e69428b8c2600e90ffce92f",
      "placeholder": "​",
      "style": "IPY_MODEL_1d04cc093e974eec82bae92d1772a1ad",
      "value": "config.json: 100%"
     }
    },
    "6c7960b9b2004add9a9ab0266b3d074f": {
     "model_module": "@jupyter-widgets/controls",
     "model_module_version": "1.5.0",
     "model_name": "HTMLModel",
     "state": {
      "_dom_classes": [],
      "_model_module": "@jupyter-widgets/controls",
      "_model_module_version": "1.5.0",
      "_model_name": "HTMLModel",
      "_view_count": null,
      "_view_module": "@jupyter-widgets/controls",
      "_view_module_version": "1.5.0",
      "_view_name": "HTMLView",
      "description": "",
      "description_tooltip": null,
      "layout": "IPY_MODEL_5b5d4b9c809c4516837bb1f967acb706",
      "placeholder": "​",
      "style": "IPY_MODEL_8605d55b3a434082b088741514c605d7",
      "value": "1_Pooling/config.json: 100%"
     }
    },
    "7db915bcba2b44e7adbddda83737b8fa": {
     "model_module": "@jupyter-widgets/controls",
     "model_module_version": "1.5.0",
     "model_name": "DescriptionStyleModel",
     "state": {
      "_model_module": "@jupyter-widgets/controls",
      "_model_module_version": "1.5.0",
      "_model_name": "DescriptionStyleModel",
      "_view_count": null,
      "_view_module": "@jupyter-widgets/base",
      "_view_module_version": "1.2.0",
      "_view_name": "StyleView",
      "description_width": ""
     }
    },
    "800f4269f2e8495cb116b677476ce7d3": {
     "model_module": "@jupyter-widgets/base",
     "model_module_version": "1.2.0",
     "model_name": "LayoutModel",
     "state": {
      "_model_module": "@jupyter-widgets/base",
      "_model_module_version": "1.2.0",
      "_model_name": "LayoutModel",
      "_view_count": null,
      "_view_module": "@jupyter-widgets/base",
      "_view_module_version": "1.2.0",
      "_view_name": "LayoutView",
      "align_content": null,
      "align_items": null,
      "align_self": null,
      "border": null,
      "bottom": null,
      "display": null,
      "flex": null,
      "flex_flow": null,
      "grid_area": null,
      "grid_auto_columns": null,
      "grid_auto_flow": null,
      "grid_auto_rows": null,
      "grid_column": null,
      "grid_gap": null,
      "grid_row": null,
      "grid_template_areas": null,
      "grid_template_columns": null,
      "grid_template_rows": null,
      "height": null,
      "justify_content": null,
      "justify_items": null,
      "left": null,
      "margin": null,
      "max_height": null,
      "max_width": null,
      "min_height": null,
      "min_width": null,
      "object_fit": null,
      "object_position": null,
      "order": null,
      "overflow": null,
      "overflow_x": null,
      "overflow_y": null,
      "padding": null,
      "right": null,
      "top": null,
      "visibility": null,
      "width": null
     }
    },
    "8605d55b3a434082b088741514c605d7": {
     "model_module": "@jupyter-widgets/controls",
     "model_module_version": "1.5.0",
     "model_name": "DescriptionStyleModel",
     "state": {
      "_model_module": "@jupyter-widgets/controls",
      "_model_module_version": "1.5.0",
      "_model_name": "DescriptionStyleModel",
      "_view_count": null,
      "_view_module": "@jupyter-widgets/base",
      "_view_module_version": "1.2.0",
      "_view_name": "StyleView",
      "description_width": ""
     }
    },
    "89219c31055543e39deafeb13dab4a63": {
     "model_module": "@jupyter-widgets/controls",
     "model_module_version": "1.5.0",
     "model_name": "DescriptionStyleModel",
     "state": {
      "_model_module": "@jupyter-widgets/controls",
      "_model_module_version": "1.5.0",
      "_model_name": "DescriptionStyleModel",
      "_view_count": null,
      "_view_module": "@jupyter-widgets/base",
      "_view_module_version": "1.2.0",
      "_view_name": "StyleView",
      "description_width": ""
     }
    },
    "8ae31ea0579d4daa97b071785a7e08a1": {
     "model_module": "@jupyter-widgets/base",
     "model_module_version": "1.2.0",
     "model_name": "LayoutModel",
     "state": {
      "_model_module": "@jupyter-widgets/base",
      "_model_module_version": "1.2.0",
      "_model_name": "LayoutModel",
      "_view_count": null,
      "_view_module": "@jupyter-widgets/base",
      "_view_module_version": "1.2.0",
      "_view_name": "LayoutView",
      "align_content": null,
      "align_items": null,
      "align_self": null,
      "border": null,
      "bottom": null,
      "display": null,
      "flex": null,
      "flex_flow": null,
      "grid_area": null,
      "grid_auto_columns": null,
      "grid_auto_flow": null,
      "grid_auto_rows": null,
      "grid_column": null,
      "grid_gap": null,
      "grid_row": null,
      "grid_template_areas": null,
      "grid_template_columns": null,
      "grid_template_rows": null,
      "height": null,
      "justify_content": null,
      "justify_items": null,
      "left": null,
      "margin": null,
      "max_height": null,
      "max_width": null,
      "min_height": null,
      "min_width": null,
      "object_fit": null,
      "object_position": null,
      "order": null,
      "overflow": null,
      "overflow_x": null,
      "overflow_y": null,
      "padding": null,
      "right": null,
      "top": null,
      "visibility": null,
      "width": null
     }
    },
    "8c4afd2f7e744a79b88b90b60db7a5a3": {
     "model_module": "@jupyter-widgets/controls",
     "model_module_version": "1.5.0",
     "model_name": "HBoxModel",
     "state": {
      "_dom_classes": [],
      "_model_module": "@jupyter-widgets/controls",
      "_model_module_version": "1.5.0",
      "_model_name": "HBoxModel",
      "_view_count": null,
      "_view_module": "@jupyter-widgets/controls",
      "_view_module_version": "1.5.0",
      "_view_name": "HBoxView",
      "box_style": "",
      "children": [
       "IPY_MODEL_16e3e9b23fd14a67b77c4b671dbbda25",
       "IPY_MODEL_13459eace38e4977a5aee9b65c5ee8c7",
       "IPY_MODEL_a4a74ddf26cf4a2595a30790ef1d4e8a"
      ],
      "layout": "IPY_MODEL_af207bafd3d84f9b98e7e2ca7376768a"
     }
    },
    "92f5213800c743f3b1bd1a3948629a4d": {
     "model_module": "@jupyter-widgets/controls",
     "model_module_version": "1.5.0",
     "model_name": "HBoxModel",
     "state": {
      "_dom_classes": [],
      "_model_module": "@jupyter-widgets/controls",
      "_model_module_version": "1.5.0",
      "_model_name": "HBoxModel",
      "_view_count": null,
      "_view_module": "@jupyter-widgets/controls",
      "_view_module_version": "1.5.0",
      "_view_name": "HBoxView",
      "box_style": "",
      "children": [
       "IPY_MODEL_ba2c6fa747f744b38667a733e389b5ff",
       "IPY_MODEL_d81afbf816b144888bf8e21de39e6c3f",
       "IPY_MODEL_664a6d65d8e940b881e9bde472358458"
      ],
      "layout": "IPY_MODEL_bcac6f57d780476eba6f387e6a20490a"
     }
    },
    "96b1be01445b4108b29d7d90a4a7305a": {
     "model_module": "@jupyter-widgets/base",
     "model_module_version": "1.2.0",
     "model_name": "LayoutModel",
     "state": {
      "_model_module": "@jupyter-widgets/base",
      "_model_module_version": "1.2.0",
      "_model_name": "LayoutModel",
      "_view_count": null,
      "_view_module": "@jupyter-widgets/base",
      "_view_module_version": "1.2.0",
      "_view_name": "LayoutView",
      "align_content": null,
      "align_items": null,
      "align_self": null,
      "border": null,
      "bottom": null,
      "display": null,
      "flex": null,
      "flex_flow": null,
      "grid_area": null,
      "grid_auto_columns": null,
      "grid_auto_flow": null,
      "grid_auto_rows": null,
      "grid_column": null,
      "grid_gap": null,
      "grid_row": null,
      "grid_template_areas": null,
      "grid_template_columns": null,
      "grid_template_rows": null,
      "height": null,
      "justify_content": null,
      "justify_items": null,
      "left": null,
      "margin": null,
      "max_height": null,
      "max_width": null,
      "min_height": null,
      "min_width": null,
      "object_fit": null,
      "object_position": null,
      "order": null,
      "overflow": null,
      "overflow_x": null,
      "overflow_y": null,
      "padding": null,
      "right": null,
      "top": null,
      "visibility": null,
      "width": null
     }
    },
    "972b81897a2549cb86bb1bfe6bac1e7b": {
     "model_module": "@jupyter-widgets/base",
     "model_module_version": "1.2.0",
     "model_name": "LayoutModel",
     "state": {
      "_model_module": "@jupyter-widgets/base",
      "_model_module_version": "1.2.0",
      "_model_name": "LayoutModel",
      "_view_count": null,
      "_view_module": "@jupyter-widgets/base",
      "_view_module_version": "1.2.0",
      "_view_name": "LayoutView",
      "align_content": null,
      "align_items": null,
      "align_self": null,
      "border": null,
      "bottom": null,
      "display": null,
      "flex": null,
      "flex_flow": null,
      "grid_area": null,
      "grid_auto_columns": null,
      "grid_auto_flow": null,
      "grid_auto_rows": null,
      "grid_column": null,
      "grid_gap": null,
      "grid_row": null,
      "grid_template_areas": null,
      "grid_template_columns": null,
      "grid_template_rows": null,
      "height": null,
      "justify_content": null,
      "justify_items": null,
      "left": null,
      "margin": null,
      "max_height": null,
      "max_width": null,
      "min_height": null,
      "min_width": null,
      "object_fit": null,
      "object_position": null,
      "order": null,
      "overflow": null,
      "overflow_x": null,
      "overflow_y": null,
      "padding": null,
      "right": null,
      "top": null,
      "visibility": null,
      "width": null
     }
    },
    "97f9c05c5aef486f9703ae23eb4249c4": {
     "model_module": "@jupyter-widgets/controls",
     "model_module_version": "1.5.0",
     "model_name": "HBoxModel",
     "state": {
      "_dom_classes": [],
      "_model_module": "@jupyter-widgets/controls",
      "_model_module_version": "1.5.0",
      "_model_name": "HBoxModel",
      "_view_count": null,
      "_view_module": "@jupyter-widgets/controls",
      "_view_module_version": "1.5.0",
      "_view_name": "HBoxView",
      "box_style": "",
      "children": [
       "IPY_MODEL_6c7960b9b2004add9a9ab0266b3d074f",
       "IPY_MODEL_bf075f5d3f154cb9b20b2cf500a18992",
       "IPY_MODEL_bce80c56f73c46d19f959c3201ca4d82"
      ],
      "layout": "IPY_MODEL_8ae31ea0579d4daa97b071785a7e08a1"
     }
    },
    "a351cd16398448ceb20bcb2019f73888": {
     "model_module": "@jupyter-widgets/base",
     "model_module_version": "1.2.0",
     "model_name": "LayoutModel",
     "state": {
      "_model_module": "@jupyter-widgets/base",
      "_model_module_version": "1.2.0",
      "_model_name": "LayoutModel",
      "_view_count": null,
      "_view_module": "@jupyter-widgets/base",
      "_view_module_version": "1.2.0",
      "_view_name": "LayoutView",
      "align_content": null,
      "align_items": null,
      "align_self": null,
      "border": null,
      "bottom": null,
      "display": null,
      "flex": null,
      "flex_flow": null,
      "grid_area": null,
      "grid_auto_columns": null,
      "grid_auto_flow": null,
      "grid_auto_rows": null,
      "grid_column": null,
      "grid_gap": null,
      "grid_row": null,
      "grid_template_areas": null,
      "grid_template_columns": null,
      "grid_template_rows": null,
      "height": null,
      "justify_content": null,
      "justify_items": null,
      "left": null,
      "margin": null,
      "max_height": null,
      "max_width": null,
      "min_height": null,
      "min_width": null,
      "object_fit": null,
      "object_position": null,
      "order": null,
      "overflow": null,
      "overflow_x": null,
      "overflow_y": null,
      "padding": null,
      "right": null,
      "top": null,
      "visibility": null,
      "width": null
     }
    },
    "a4a74ddf26cf4a2595a30790ef1d4e8a": {
     "model_module": "@jupyter-widgets/controls",
     "model_module_version": "1.5.0",
     "model_name": "HTMLModel",
     "state": {
      "_dom_classes": [],
      "_model_module": "@jupyter-widgets/controls",
      "_model_module_version": "1.5.0",
      "_model_name": "HTMLModel",
      "_view_count": null,
      "_view_module": "@jupyter-widgets/controls",
      "_view_module_version": "1.5.0",
      "_view_name": "HTMLView",
      "description": "",
      "description_tooltip": null,
      "layout": "IPY_MODEL_33f5639d2eaf416988891365d5856552",
      "placeholder": "​",
      "style": "IPY_MODEL_36516ce2aa194e858fe17f60916a6b7b",
      "value": " 1.34G/1.34G [00:08&lt;00:00, 255MB/s]"
     }
    },
    "a67b619e01434c82841d9a6927267403": {
     "model_module": "@jupyter-widgets/controls",
     "model_module_version": "1.5.0",
     "model_name": "HTMLModel",
     "state": {
      "_dom_classes": [],
      "_model_module": "@jupyter-widgets/controls",
      "_model_module_version": "1.5.0",
      "_model_name": "HTMLModel",
      "_view_count": null,
      "_view_module": "@jupyter-widgets/controls",
      "_view_module_version": "1.5.0",
      "_view_name": "HTMLView",
      "description": "",
      "description_tooltip": null,
      "layout": "IPY_MODEL_48fd9dbbe9744a64b7b6053ccaa7c6ee",
      "placeholder": "​",
      "style": "IPY_MODEL_b8f8114978f443dca12540ddfc27cc55",
      "value": "README.md: 100%"
     }
    },
    "af207bafd3d84f9b98e7e2ca7376768a": {
     "model_module": "@jupyter-widgets/base",
     "model_module_version": "1.2.0",
     "model_name": "LayoutModel",
     "state": {
      "_model_module": "@jupyter-widgets/base",
      "_model_module_version": "1.2.0",
      "_model_name": "LayoutModel",
      "_view_count": null,
      "_view_module": "@jupyter-widgets/base",
      "_view_module_version": "1.2.0",
      "_view_name": "LayoutView",
      "align_content": null,
      "align_items": null,
      "align_self": null,
      "border": null,
      "bottom": null,
      "display": null,
      "flex": null,
      "flex_flow": null,
      "grid_area": null,
      "grid_auto_columns": null,
      "grid_auto_flow": null,
      "grid_auto_rows": null,
      "grid_column": null,
      "grid_gap": null,
      "grid_row": null,
      "grid_template_areas": null,
      "grid_template_columns": null,
      "grid_template_rows": null,
      "height": null,
      "justify_content": null,
      "justify_items": null,
      "left": null,
      "margin": null,
      "max_height": null,
      "max_width": null,
      "min_height": null,
      "min_width": null,
      "object_fit": null,
      "object_position": null,
      "order": null,
      "overflow": null,
      "overflow_x": null,
      "overflow_y": null,
      "padding": null,
      "right": null,
      "top": null,
      "visibility": null,
      "width": null
     }
    },
    "afccbf9360d949b59e27a0ea40bbc383": {
     "model_module": "@jupyter-widgets/controls",
     "model_module_version": "1.5.0",
     "model_name": "HBoxModel",
     "state": {
      "_dom_classes": [],
      "_model_module": "@jupyter-widgets/controls",
      "_model_module_version": "1.5.0",
      "_model_name": "HBoxModel",
      "_view_count": null,
      "_view_module": "@jupyter-widgets/controls",
      "_view_module_version": "1.5.0",
      "_view_name": "HBoxView",
      "box_style": "",
      "children": [
       "IPY_MODEL_f78dc0a6f8414da5a7ffa228992225d5",
       "IPY_MODEL_ec044bb77eb94e06aa81994289f636c6",
       "IPY_MODEL_c6221fc53dab4dca8303cf9de6e3f02d"
      ],
      "layout": "IPY_MODEL_b547a2c695a2460c99d0cb6240360f59"
     }
    },
    "b0cee016072d4935af8f840d1034078a": {
     "model_module": "@jupyter-widgets/controls",
     "model_module_version": "1.5.0",
     "model_name": "DescriptionStyleModel",
     "state": {
      "_model_module": "@jupyter-widgets/controls",
      "_model_module_version": "1.5.0",
      "_model_name": "DescriptionStyleModel",
      "_view_count": null,
      "_view_module": "@jupyter-widgets/base",
      "_view_module_version": "1.2.0",
      "_view_name": "StyleView",
      "description_width": ""
     }
    },
    "b2cc7150ff3b4d909b9d10e3f8dd6e60": {
     "model_module": "@jupyter-widgets/controls",
     "model_module_version": "1.5.0",
     "model_name": "HTMLModel",
     "state": {
      "_dom_classes": [],
      "_model_module": "@jupyter-widgets/controls",
      "_model_module_version": "1.5.0",
      "_model_name": "HTMLModel",
      "_view_count": null,
      "_view_module": "@jupyter-widgets/controls",
      "_view_module_version": "1.5.0",
      "_view_name": "HTMLView",
      "description": "",
      "description_tooltip": null,
      "layout": "IPY_MODEL_c6c1b425ac3147acbaa9537d62153e59",
      "placeholder": "​",
      "style": "IPY_MODEL_7db915bcba2b44e7adbddda83737b8fa",
      "value": " 779/779 [00:00&lt;00:00, 35.2kB/s]"
     }
    },
    "b547a2c695a2460c99d0cb6240360f59": {
     "model_module": "@jupyter-widgets/base",
     "model_module_version": "1.2.0",
     "model_name": "LayoutModel",
     "state": {
      "_model_module": "@jupyter-widgets/base",
      "_model_module_version": "1.2.0",
      "_model_name": "LayoutModel",
      "_view_count": null,
      "_view_module": "@jupyter-widgets/base",
      "_view_module_version": "1.2.0",
      "_view_name": "LayoutView",
      "align_content": null,
      "align_items": null,
      "align_self": null,
      "border": null,
      "bottom": null,
      "display": null,
      "flex": null,
      "flex_flow": null,
      "grid_area": null,
      "grid_auto_columns": null,
      "grid_auto_flow": null,
      "grid_auto_rows": null,
      "grid_column": null,
      "grid_gap": null,
      "grid_row": null,
      "grid_template_areas": null,
      "grid_template_columns": null,
      "grid_template_rows": null,
      "height": null,
      "justify_content": null,
      "justify_items": null,
      "left": null,
      "margin": null,
      "max_height": null,
      "max_width": null,
      "min_height": null,
      "min_width": null,
      "object_fit": null,
      "object_position": null,
      "order": null,
      "overflow": null,
      "overflow_x": null,
      "overflow_y": null,
      "padding": null,
      "right": null,
      "top": null,
      "visibility": null,
      "width": null
     }
    },
    "b8f8114978f443dca12540ddfc27cc55": {
     "model_module": "@jupyter-widgets/controls",
     "model_module_version": "1.5.0",
     "model_name": "DescriptionStyleModel",
     "state": {
      "_model_module": "@jupyter-widgets/controls",
      "_model_module_version": "1.5.0",
      "_model_name": "DescriptionStyleModel",
      "_view_count": null,
      "_view_module": "@jupyter-widgets/base",
      "_view_module_version": "1.2.0",
      "_view_name": "StyleView",
      "description_width": ""
     }
    },
    "ba2c6fa747f744b38667a733e389b5ff": {
     "model_module": "@jupyter-widgets/controls",
     "model_module_version": "1.5.0",
     "model_name": "HTMLModel",
     "state": {
      "_dom_classes": [],
      "_model_module": "@jupyter-widgets/controls",
      "_model_module_version": "1.5.0",
      "_model_name": "HTMLModel",
      "_view_count": null,
      "_view_module": "@jupyter-widgets/controls",
      "_view_module_version": "1.5.0",
      "_view_name": "HTMLView",
      "description": "",
      "description_tooltip": null,
      "layout": "IPY_MODEL_e2538a47b92c4e11a00d6708e16e0596",
      "placeholder": "​",
      "style": "IPY_MODEL_d78e4c4ec18740b5aa8631354bf20199",
      "value": "config_sentence_transformers.json: 100%"
     }
    },
    "bcac6f57d780476eba6f387e6a20490a": {
     "model_module": "@jupyter-widgets/base",
     "model_module_version": "1.2.0",
     "model_name": "LayoutModel",
     "state": {
      "_model_module": "@jupyter-widgets/base",
      "_model_module_version": "1.2.0",
      "_model_name": "LayoutModel",
      "_view_count": null,
      "_view_module": "@jupyter-widgets/base",
      "_view_module_version": "1.2.0",
      "_view_name": "LayoutView",
      "align_content": null,
      "align_items": null,
      "align_self": null,
      "border": null,
      "bottom": null,
      "display": null,
      "flex": null,
      "flex_flow": null,
      "grid_area": null,
      "grid_auto_columns": null,
      "grid_auto_flow": null,
      "grid_auto_rows": null,
      "grid_column": null,
      "grid_gap": null,
      "grid_row": null,
      "grid_template_areas": null,
      "grid_template_columns": null,
      "grid_template_rows": null,
      "height": null,
      "justify_content": null,
      "justify_items": null,
      "left": null,
      "margin": null,
      "max_height": null,
      "max_width": null,
      "min_height": null,
      "min_width": null,
      "object_fit": null,
      "object_position": null,
      "order": null,
      "overflow": null,
      "overflow_x": null,
      "overflow_y": null,
      "padding": null,
      "right": null,
      "top": null,
      "visibility": null,
      "width": null
     }
    },
    "bce80c56f73c46d19f959c3201ca4d82": {
     "model_module": "@jupyter-widgets/controls",
     "model_module_version": "1.5.0",
     "model_name": "HTMLModel",
     "state": {
      "_dom_classes": [],
      "_model_module": "@jupyter-widgets/controls",
      "_model_module_version": "1.5.0",
      "_model_name": "HTMLModel",
      "_view_count": null,
      "_view_module": "@jupyter-widgets/controls",
      "_view_module_version": "1.5.0",
      "_view_name": "HTMLView",
      "description": "",
      "description_tooltip": null,
      "layout": "IPY_MODEL_f0a712888ea94898a63f9d919c5e527a",
      "placeholder": "​",
      "style": "IPY_MODEL_23450d1e8561464381552d7633643cfd",
      "value": " 191/191 [00:00&lt;00:00, 10.9kB/s]"
     }
    },
    "bf075f5d3f154cb9b20b2cf500a18992": {
     "model_module": "@jupyter-widgets/controls",
     "model_module_version": "1.5.0",
     "model_name": "FloatProgressModel",
     "state": {
      "_dom_classes": [],
      "_model_module": "@jupyter-widgets/controls",
      "_model_module_version": "1.5.0",
      "_model_name": "FloatProgressModel",
      "_view_count": null,
      "_view_module": "@jupyter-widgets/controls",
      "_view_module_version": "1.5.0",
      "_view_name": "ProgressView",
      "bar_style": "success",
      "description": "",
      "description_tooltip": null,
      "layout": "IPY_MODEL_cf78b60210c44d13bac5297d9cbe7bb7",
      "max": 191,
      "min": 0,
      "orientation": "horizontal",
      "style": "IPY_MODEL_e5c4504ecfba4560887a0db507002a87",
      "value": 191
     }
    },
    "c6221fc53dab4dca8303cf9de6e3f02d": {
     "model_module": "@jupyter-widgets/controls",
     "model_module_version": "1.5.0",
     "model_name": "HTMLModel",
     "state": {
      "_dom_classes": [],
      "_model_module": "@jupyter-widgets/controls",
      "_model_module_version": "1.5.0",
      "_model_name": "HTMLModel",
      "_view_count": null,
      "_view_module": "@jupyter-widgets/controls",
      "_view_module_version": "1.5.0",
      "_view_name": "HTMLView",
      "description": "",
      "description_tooltip": null,
      "layout": "IPY_MODEL_ed8b960c7f334c08a3d0505d6948ce3e",
      "placeholder": "​",
      "style": "IPY_MODEL_b0cee016072d4935af8f840d1034078a",
      "value": " 52.0/52.0 [00:00&lt;00:00, 3.27kB/s]"
     }
    },
    "c6c1b425ac3147acbaa9537d62153e59": {
     "model_module": "@jupyter-widgets/base",
     "model_module_version": "1.2.0",
     "model_name": "LayoutModel",
     "state": {
      "_model_module": "@jupyter-widgets/base",
      "_model_module_version": "1.2.0",
      "_model_name": "LayoutModel",
      "_view_count": null,
      "_view_module": "@jupyter-widgets/base",
      "_view_module_version": "1.2.0",
      "_view_name": "LayoutView",
      "align_content": null,
      "align_items": null,
      "align_self": null,
      "border": null,
      "bottom": null,
      "display": null,
      "flex": null,
      "flex_flow": null,
      "grid_area": null,
      "grid_auto_columns": null,
      "grid_auto_flow": null,
      "grid_auto_rows": null,
      "grid_column": null,
      "grid_gap": null,
      "grid_row": null,
      "grid_template_areas": null,
      "grid_template_columns": null,
      "grid_template_rows": null,
      "height": null,
      "justify_content": null,
      "justify_items": null,
      "left": null,
      "margin": null,
      "max_height": null,
      "max_width": null,
      "min_height": null,
      "min_width": null,
      "object_fit": null,
      "object_position": null,
      "order": null,
      "overflow": null,
      "overflow_x": null,
      "overflow_y": null,
      "padding": null,
      "right": null,
      "top": null,
      "visibility": null,
      "width": null
     }
    },
    "c9abea61dd584734a63887d55152170e": {
     "model_module": "@jupyter-widgets/base",
     "model_module_version": "1.2.0",
     "model_name": "LayoutModel",
     "state": {
      "_model_module": "@jupyter-widgets/base",
      "_model_module_version": "1.2.0",
      "_model_name": "LayoutModel",
      "_view_count": null,
      "_view_module": "@jupyter-widgets/base",
      "_view_module_version": "1.2.0",
      "_view_name": "LayoutView",
      "align_content": null,
      "align_items": null,
      "align_self": null,
      "border": null,
      "bottom": null,
      "display": null,
      "flex": null,
      "flex_flow": null,
      "grid_area": null,
      "grid_auto_columns": null,
      "grid_auto_flow": null,
      "grid_auto_rows": null,
      "grid_column": null,
      "grid_gap": null,
      "grid_row": null,
      "grid_template_areas": null,
      "grid_template_columns": null,
      "grid_template_rows": null,
      "height": null,
      "justify_content": null,
      "justify_items": null,
      "left": null,
      "margin": null,
      "max_height": null,
      "max_width": null,
      "min_height": null,
      "min_width": null,
      "object_fit": null,
      "object_position": null,
      "order": null,
      "overflow": null,
      "overflow_x": null,
      "overflow_y": null,
      "padding": null,
      "right": null,
      "top": null,
      "visibility": null,
      "width": null
     }
    },
    "cbe8e6ca8b4e4b0ca024b61336e4203b": {
     "model_module": "@jupyter-widgets/controls",
     "model_module_version": "1.5.0",
     "model_name": "ProgressStyleModel",
     "state": {
      "_model_module": "@jupyter-widgets/controls",
      "_model_module_version": "1.5.0",
      "_model_name": "ProgressStyleModel",
      "_view_count": null,
      "_view_module": "@jupyter-widgets/base",
      "_view_module_version": "1.2.0",
      "_view_name": "StyleView",
      "bar_color": null,
      "description_width": ""
     }
    },
    "ccb38009ee6a4c48abe48fb11409ee4a": {
     "model_module": "@jupyter-widgets/base",
     "model_module_version": "1.2.0",
     "model_name": "LayoutModel",
     "state": {
      "_model_module": "@jupyter-widgets/base",
      "_model_module_version": "1.2.0",
      "_model_name": "LayoutModel",
      "_view_count": null,
      "_view_module": "@jupyter-widgets/base",
      "_view_module_version": "1.2.0",
      "_view_name": "LayoutView",
      "align_content": null,
      "align_items": null,
      "align_self": null,
      "border": null,
      "bottom": null,
      "display": null,
      "flex": null,
      "flex_flow": null,
      "grid_area": null,
      "grid_auto_columns": null,
      "grid_auto_flow": null,
      "grid_auto_rows": null,
      "grid_column": null,
      "grid_gap": null,
      "grid_row": null,
      "grid_template_areas": null,
      "grid_template_columns": null,
      "grid_template_rows": null,
      "height": null,
      "justify_content": null,
      "justify_items": null,
      "left": null,
      "margin": null,
      "max_height": null,
      "max_width": null,
      "min_height": null,
      "min_width": null,
      "object_fit": null,
      "object_position": null,
      "order": null,
      "overflow": null,
      "overflow_x": null,
      "overflow_y": null,
      "padding": null,
      "right": null,
      "top": null,
      "visibility": null,
      "width": null
     }
    },
    "cf78b60210c44d13bac5297d9cbe7bb7": {
     "model_module": "@jupyter-widgets/base",
     "model_module_version": "1.2.0",
     "model_name": "LayoutModel",
     "state": {
      "_model_module": "@jupyter-widgets/base",
      "_model_module_version": "1.2.0",
      "_model_name": "LayoutModel",
      "_view_count": null,
      "_view_module": "@jupyter-widgets/base",
      "_view_module_version": "1.2.0",
      "_view_name": "LayoutView",
      "align_content": null,
      "align_items": null,
      "align_self": null,
      "border": null,
      "bottom": null,
      "display": null,
      "flex": null,
      "flex_flow": null,
      "grid_area": null,
      "grid_auto_columns": null,
      "grid_auto_flow": null,
      "grid_auto_rows": null,
      "grid_column": null,
      "grid_gap": null,
      "grid_row": null,
      "grid_template_areas": null,
      "grid_template_columns": null,
      "grid_template_rows": null,
      "height": null,
      "justify_content": null,
      "justify_items": null,
      "left": null,
      "margin": null,
      "max_height": null,
      "max_width": null,
      "min_height": null,
      "min_width": null,
      "object_fit": null,
      "object_position": null,
      "order": null,
      "overflow": null,
      "overflow_x": null,
      "overflow_y": null,
      "padding": null,
      "right": null,
      "top": null,
      "visibility": null,
      "width": null
     }
    },
    "d23f1eedb0ef42848b3a8acb1d6d4a0b": {
     "model_module": "@jupyter-widgets/controls",
     "model_module_version": "1.5.0",
     "model_name": "ProgressStyleModel",
     "state": {
      "_model_module": "@jupyter-widgets/controls",
      "_model_module_version": "1.5.0",
      "_model_name": "ProgressStyleModel",
      "_view_count": null,
      "_view_module": "@jupyter-widgets/base",
      "_view_module_version": "1.2.0",
      "_view_name": "StyleView",
      "bar_color": null,
      "description_width": ""
     }
    },
    "d3d6595d47f846c398acd1df5295f55d": {
     "model_module": "@jupyter-widgets/base",
     "model_module_version": "1.2.0",
     "model_name": "LayoutModel",
     "state": {
      "_model_module": "@jupyter-widgets/base",
      "_model_module_version": "1.2.0",
      "_model_name": "LayoutModel",
      "_view_count": null,
      "_view_module": "@jupyter-widgets/base",
      "_view_module_version": "1.2.0",
      "_view_name": "LayoutView",
      "align_content": null,
      "align_items": null,
      "align_self": null,
      "border": null,
      "bottom": null,
      "display": null,
      "flex": null,
      "flex_flow": null,
      "grid_area": null,
      "grid_auto_columns": null,
      "grid_auto_flow": null,
      "grid_auto_rows": null,
      "grid_column": null,
      "grid_gap": null,
      "grid_row": null,
      "grid_template_areas": null,
      "grid_template_columns": null,
      "grid_template_rows": null,
      "height": null,
      "justify_content": null,
      "justify_items": null,
      "left": null,
      "margin": null,
      "max_height": null,
      "max_width": null,
      "min_height": null,
      "min_width": null,
      "object_fit": null,
      "object_position": null,
      "order": null,
      "overflow": null,
      "overflow_x": null,
      "overflow_y": null,
      "padding": null,
      "right": null,
      "top": null,
      "visibility": null,
      "width": null
     }
    },
    "d4c65c3a8e69428b8c2600e90ffce92f": {
     "model_module": "@jupyter-widgets/base",
     "model_module_version": "1.2.0",
     "model_name": "LayoutModel",
     "state": {
      "_model_module": "@jupyter-widgets/base",
      "_model_module_version": "1.2.0",
      "_model_name": "LayoutModel",
      "_view_count": null,
      "_view_module": "@jupyter-widgets/base",
      "_view_module_version": "1.2.0",
      "_view_name": "LayoutView",
      "align_content": null,
      "align_items": null,
      "align_self": null,
      "border": null,
      "bottom": null,
      "display": null,
      "flex": null,
      "flex_flow": null,
      "grid_area": null,
      "grid_auto_columns": null,
      "grid_auto_flow": null,
      "grid_auto_rows": null,
      "grid_column": null,
      "grid_gap": null,
      "grid_row": null,
      "grid_template_areas": null,
      "grid_template_columns": null,
      "grid_template_rows": null,
      "height": null,
      "justify_content": null,
      "justify_items": null,
      "left": null,
      "margin": null,
      "max_height": null,
      "max_width": null,
      "min_height": null,
      "min_width": null,
      "object_fit": null,
      "object_position": null,
      "order": null,
      "overflow": null,
      "overflow_x": null,
      "overflow_y": null,
      "padding": null,
      "right": null,
      "top": null,
      "visibility": null,
      "width": null
     }
    },
    "d78e4c4ec18740b5aa8631354bf20199": {
     "model_module": "@jupyter-widgets/controls",
     "model_module_version": "1.5.0",
     "model_name": "DescriptionStyleModel",
     "state": {
      "_model_module": "@jupyter-widgets/controls",
      "_model_module_version": "1.5.0",
      "_model_name": "DescriptionStyleModel",
      "_view_count": null,
      "_view_module": "@jupyter-widgets/base",
      "_view_module_version": "1.2.0",
      "_view_name": "StyleView",
      "description_width": ""
     }
    },
    "d81afbf816b144888bf8e21de39e6c3f": {
     "model_module": "@jupyter-widgets/controls",
     "model_module_version": "1.5.0",
     "model_name": "FloatProgressModel",
     "state": {
      "_dom_classes": [],
      "_model_module": "@jupyter-widgets/controls",
      "_model_module_version": "1.5.0",
      "_model_name": "FloatProgressModel",
      "_view_count": null,
      "_view_module": "@jupyter-widgets/controls",
      "_view_module_version": "1.5.0",
      "_view_name": "ProgressView",
      "bar_style": "success",
      "description": "",
      "description_tooltip": null,
      "layout": "IPY_MODEL_c9abea61dd584734a63887d55152170e",
      "max": 124,
      "min": 0,
      "orientation": "horizontal",
      "style": "IPY_MODEL_fda4a5cb72e54cdcab0cda9dae85fb45",
      "value": 124
     }
    },
    "e2538a47b92c4e11a00d6708e16e0596": {
     "model_module": "@jupyter-widgets/base",
     "model_module_version": "1.2.0",
     "model_name": "LayoutModel",
     "state": {
      "_model_module": "@jupyter-widgets/base",
      "_model_module_version": "1.2.0",
      "_model_name": "LayoutModel",
      "_view_count": null,
      "_view_module": "@jupyter-widgets/base",
      "_view_module_version": "1.2.0",
      "_view_name": "LayoutView",
      "align_content": null,
      "align_items": null,
      "align_self": null,
      "border": null,
      "bottom": null,
      "display": null,
      "flex": null,
      "flex_flow": null,
      "grid_area": null,
      "grid_auto_columns": null,
      "grid_auto_flow": null,
      "grid_auto_rows": null,
      "grid_column": null,
      "grid_gap": null,
      "grid_row": null,
      "grid_template_areas": null,
      "grid_template_columns": null,
      "grid_template_rows": null,
      "height": null,
      "justify_content": null,
      "justify_items": null,
      "left": null,
      "margin": null,
      "max_height": null,
      "max_width": null,
      "min_height": null,
      "min_width": null,
      "object_fit": null,
      "object_position": null,
      "order": null,
      "overflow": null,
      "overflow_x": null,
      "overflow_y": null,
      "padding": null,
      "right": null,
      "top": null,
      "visibility": null,
      "width": null
     }
    },
    "e5c4504ecfba4560887a0db507002a87": {
     "model_module": "@jupyter-widgets/controls",
     "model_module_version": "1.5.0",
     "model_name": "ProgressStyleModel",
     "state": {
      "_model_module": "@jupyter-widgets/controls",
      "_model_module_version": "1.5.0",
      "_model_name": "ProgressStyleModel",
      "_view_count": null,
      "_view_module": "@jupyter-widgets/base",
      "_view_module_version": "1.2.0",
      "_view_name": "StyleView",
      "bar_color": null,
      "description_width": ""
     }
    },
    "ec044bb77eb94e06aa81994289f636c6": {
     "model_module": "@jupyter-widgets/controls",
     "model_module_version": "1.5.0",
     "model_name": "FloatProgressModel",
     "state": {
      "_dom_classes": [],
      "_model_module": "@jupyter-widgets/controls",
      "_model_module_version": "1.5.0",
      "_model_name": "FloatProgressModel",
      "_view_count": null,
      "_view_module": "@jupyter-widgets/controls",
      "_view_module_version": "1.5.0",
      "_view_name": "ProgressView",
      "bar_style": "success",
      "description": "",
      "description_tooltip": null,
      "layout": "IPY_MODEL_42089462de98445d8e6dc49a1ae87332",
      "max": 52,
      "min": 0,
      "orientation": "horizontal",
      "style": "IPY_MODEL_323c58fb557347a189766053fbf01774",
      "value": 52
     }
    },
    "ed8b960c7f334c08a3d0505d6948ce3e": {
     "model_module": "@jupyter-widgets/base",
     "model_module_version": "1.2.0",
     "model_name": "LayoutModel",
     "state": {
      "_model_module": "@jupyter-widgets/base",
      "_model_module_version": "1.2.0",
      "_model_name": "LayoutModel",
      "_view_count": null,
      "_view_module": "@jupyter-widgets/base",
      "_view_module_version": "1.2.0",
      "_view_name": "LayoutView",
      "align_content": null,
      "align_items": null,
      "align_self": null,
      "border": null,
      "bottom": null,
      "display": null,
      "flex": null,
      "flex_flow": null,
      "grid_area": null,
      "grid_auto_columns": null,
      "grid_auto_flow": null,
      "grid_auto_rows": null,
      "grid_column": null,
      "grid_gap": null,
      "grid_row": null,
      "grid_template_areas": null,
      "grid_template_columns": null,
      "grid_template_rows": null,
      "height": null,
      "justify_content": null,
      "justify_items": null,
      "left": null,
      "margin": null,
      "max_height": null,
      "max_width": null,
      "min_height": null,
      "min_width": null,
      "object_fit": null,
      "object_position": null,
      "order": null,
      "overflow": null,
      "overflow_x": null,
      "overflow_y": null,
      "padding": null,
      "right": null,
      "top": null,
      "visibility": null,
      "width": null
     }
    },
    "f0a712888ea94898a63f9d919c5e527a": {
     "model_module": "@jupyter-widgets/base",
     "model_module_version": "1.2.0",
     "model_name": "LayoutModel",
     "state": {
      "_model_module": "@jupyter-widgets/base",
      "_model_module_version": "1.2.0",
      "_model_name": "LayoutModel",
      "_view_count": null,
      "_view_module": "@jupyter-widgets/base",
      "_view_module_version": "1.2.0",
      "_view_name": "LayoutView",
      "align_content": null,
      "align_items": null,
      "align_self": null,
      "border": null,
      "bottom": null,
      "display": null,
      "flex": null,
      "flex_flow": null,
      "grid_area": null,
      "grid_auto_columns": null,
      "grid_auto_flow": null,
      "grid_auto_rows": null,
      "grid_column": null,
      "grid_gap": null,
      "grid_row": null,
      "grid_template_areas": null,
      "grid_template_columns": null,
      "grid_template_rows": null,
      "height": null,
      "justify_content": null,
      "justify_items": null,
      "left": null,
      "margin": null,
      "max_height": null,
      "max_width": null,
      "min_height": null,
      "min_width": null,
      "object_fit": null,
      "object_position": null,
      "order": null,
      "overflow": null,
      "overflow_x": null,
      "overflow_y": null,
      "padding": null,
      "right": null,
      "top": null,
      "visibility": null,
      "width": null
     }
    },
    "f78dc0a6f8414da5a7ffa228992225d5": {
     "model_module": "@jupyter-widgets/controls",
     "model_module_version": "1.5.0",
     "model_name": "HTMLModel",
     "state": {
      "_dom_classes": [],
      "_model_module": "@jupyter-widgets/controls",
      "_model_module_version": "1.5.0",
      "_model_name": "HTMLModel",
      "_view_count": null,
      "_view_module": "@jupyter-widgets/controls",
      "_view_module_version": "1.5.0",
      "_view_name": "HTMLView",
      "description": "",
      "description_tooltip": null,
      "layout": "IPY_MODEL_147b1933f5f749d097828006534956a8",
      "placeholder": "​",
      "style": "IPY_MODEL_676f89e4f4b64d59966212e98a779b68",
      "value": "sentence_bert_config.json: 100%"
     }
    },
    "f9f19c72c1c54759bd16caf9266f094b": {
     "model_module": "@jupyter-widgets/controls",
     "model_module_version": "1.5.0",
     "model_name": "DescriptionStyleModel",
     "state": {
      "_model_module": "@jupyter-widgets/controls",
      "_model_module_version": "1.5.0",
      "_model_name": "DescriptionStyleModel",
      "_view_count": null,
      "_view_module": "@jupyter-widgets/base",
      "_view_module_version": "1.2.0",
      "_view_name": "StyleView",
      "description_width": ""
     }
    },
    "fb91bfd36085485dae076f8340752b83": {
     "model_module": "@jupyter-widgets/controls",
     "model_module_version": "1.5.0",
     "model_name": "DescriptionStyleModel",
     "state": {
      "_model_module": "@jupyter-widgets/controls",
      "_model_module_version": "1.5.0",
      "_model_name": "DescriptionStyleModel",
      "_view_count": null,
      "_view_module": "@jupyter-widgets/base",
      "_view_module_version": "1.2.0",
      "_view_name": "StyleView",
      "description_width": ""
     }
    },
    "fda4a5cb72e54cdcab0cda9dae85fb45": {
     "model_module": "@jupyter-widgets/controls",
     "model_module_version": "1.5.0",
     "model_name": "ProgressStyleModel",
     "state": {
      "_model_module": "@jupyter-widgets/controls",
      "_model_module_version": "1.5.0",
      "_model_name": "ProgressStyleModel",
      "_view_count": null,
      "_view_module": "@jupyter-widgets/base",
      "_view_module_version": "1.2.0",
      "_view_name": "StyleView",
      "bar_color": null,
      "description_width": ""
     }
    }
   }
  }
 },
 "nbformat": 4,
 "nbformat_minor": 4
}
