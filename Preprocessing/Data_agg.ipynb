{
 "cells": [
  {
   "cell_type": "code",
   "execution_count": 1,
   "id": "0efcd27e-8dc3-45a7-ba92-116917c1b950",
   "metadata": {},
   "outputs": [],
   "source": [
    "import pandas as pd\n",
    "import numpy as np\n",
    "import os\n",
    "from tqdm import tqdm\n",
    "import re"
   ]
  },
  {
   "cell_type": "code",
   "execution_count": 2,
   "id": "4bea6860-0517-4400-8d74-c175f2469dbd",
   "metadata": {},
   "outputs": [],
   "source": [
    "galvin_dir = \"../Data/Galvin_data\"\n",
    "tannenbaum_dir  = \"../Data/Tanenbaum_data\""
   ]
  },
  {
   "cell_type": "code",
   "execution_count": 3,
   "id": "8cbcf349-a3e7-400a-be17-55eff53bbc17",
   "metadata": {},
   "outputs": [],
   "source": [
    "def list_directories(p_dir):\n",
    "    # Get list of all entries in the directory\n",
    "    entries = os.listdir(p_dir)\n",
    "    \n",
    "    # Filter out only directories\n",
    "    directories = [entry for entry in entries if os.path.isdir(os.path.join(p_dir, entry))]\n",
    "    \n",
    "    return directories"
   ]
  },
  {
   "cell_type": "code",
   "execution_count": 4,
   "id": "a91b6e89-836f-4475-8212-588dcd98a77a",
   "metadata": {},
   "outputs": [],
   "source": [
    "def list_files(directory):\n",
    "    # Get all entries in the directory\n",
    "    entries = os.listdir(directory)\n",
    "    # Filter out directories, keeping only files\n",
    "    files = [entry for entry in entries if os.path.isfile(os.path.join(directory, entry))]\n",
    "    return files"
   ]
  },
  {
   "cell_type": "code",
   "execution_count": 5,
   "id": "d9bc7e2c-a536-4003-a2f5-9077cbc074d1",
   "metadata": {},
   "outputs": [],
   "source": [
    "def format_str(s) -> str:\n",
    "    \n",
    "    if s.startswith(\"assistant:\"):  # Check if the string starts with 'assistant '\n",
    "        s = s.replace(\"assistant:\", \"<Reason>: \", 1)  # Replace the first occurrence\n",
    "\n",
    "    start_index, end_index = 0, len(s) - 1\n",
    "    beg_found = False\n",
    "    for i in range(len(s)):\n",
    "        if s[i].isalpha():\n",
    "            if not beg_found:\n",
    "                start_index = i\n",
    "                beg_found = True\n",
    "            else:\n",
    "                end_index = i\n",
    "    end_index += 2\n",
    "    text = s[start_index-1 : min(end_index, len(s))]\n",
    "    pattern = re.compile(r'''\n",
    "            (\\d+\\.)? # optional digits and dot\n",
    "            (\\s+)? # optional whitespace\n",
    "            (\\*\\*Final\\ Answer\\*\\*|\\*\\*Final\\ Answer:\\*\\*|\\*\\*Final\\ answer\\*\\*|\\*\\*Final\\ Answer:\\*\\*|Final\\ Answer:|\\*\\*Answer\\*\\*|\\*\\*Answer:\\*\\*|Therefore,)\n",
    "            (\\s+)? # optional whitespace\n",
    "            :? # optional colon\n",
    "        ''', re.IGNORECASE | re.VERBOSE)\n",
    "    \n",
    "    \n",
    "    text = re.sub(pattern, \"\\n<Answer>\", text)\n",
    "    \n",
    "    match = re.search(r'<Answer>', text)\n",
    "    \n",
    "    return text"
   ]
  },
  {
   "cell_type": "code",
   "execution_count": 6,
   "id": "6ec7d4ea-9488-4292-ba8c-fa8f50fc952e",
   "metadata": {},
   "outputs": [],
   "source": [
    "def replace_context(df):\n",
    "    ctxs = df.context.tolist()\n",
    "    oracles = df.oracle_context.tolist()\n",
    "    for i,co in enumerate(zip(ctxs,oracles)):\n",
    "        c,o = co\n",
    "        c = c['sentences'][0]\n",
    "        c.remove(o)\n",
    "        c.insert(0,o)\n",
    "    return df"
   ]
  },
  {
   "cell_type": "code",
   "execution_count": 7,
   "id": "d1d01526-7b54-4d26-b152-291b329f6fa8",
   "metadata": {},
   "outputs": [],
   "source": [
    "def make_data(p_dir):\n",
    "    size = list_directories(p_dir)\n",
    "    df_final = pd.DataFrame()\n",
    "    for i in range(len(size)):\n",
    "        df = pd.DataFrame()\n",
    "        s = size[i]\n",
    "        data_dir = os.path.join(p_dir,s)\n",
    "        file_list = list_files(data_dir)\n",
    "        for file in tqdm(file_list, desc=\"Processing files\"):\n",
    "            direc = os.path.join(data_dir,file)\n",
    "            temp = pd.read_json(direc,lines=True)\n",
    "            df = pd.concat([df,temp])\n",
    "            df.reset_index(inplace=True,drop=True)\n",
    "        df['cot_answer'] = df['cot_answer'].apply(format_str)\n",
    "        df_final = pd.concat([df_final,df])\n",
    "        df_final.reset_index(inplace=True,drop=True)\n",
    "    df_final = replace_context(df_final)\n",
    "    \n",
    "    return df_final"
   ]
  },
  {
   "cell_type": "code",
   "execution_count": 8,
   "id": "ff21f1d3-0083-493a-a55b-597f53196532",
   "metadata": {},
   "outputs": [
    {
     "name": "stderr",
     "output_type": "stream",
     "text": [
      "Processing files: 100%|█████████████████████████| 65/65 [00:02<00:00, 32.16it/s]\n",
      "Processing files: 100%|██████████████████████| 282/282 [00:02<00:00, 112.42it/s]\n",
      "Processing files: 100%|██████████████████████| 106/106 [00:01<00:00, 104.60it/s]\n"
     ]
    }
   ],
   "source": [
    "df_g = make_data(galvin_dir)\n",
    "df_t = make_data(tannenbaum_dir)"
   ]
  },
  {
   "cell_type": "code",
   "execution_count": 9,
   "id": "7fea114b-65a9-4c91-8dba-e175a4de8f97",
   "metadata": {},
   "outputs": [],
   "source": [
    "df_final = pd.concat([df_g,df_t])\n",
    "df_final.reset_index(inplace=True, drop=True)"
   ]
  },
  {
   "cell_type": "code",
   "execution_count": 10,
   "id": "efd38780-505a-479e-b956-a84b277d9f38",
   "metadata": {},
   "outputs": [],
   "source": [
    "for ctx in df_g.context:\n",
    "    ls = ctx['sentences'][0]\n",
    "    if(len(set(ls)) != len(ls)):\n",
    "        print(\"Anomaly found !\")"
   ]
  },
  {
   "cell_type": "code",
   "execution_count": 12,
   "id": "79699d18-9dea-44fa-9e78-5203c62b9f7f",
   "metadata": {},
   "outputs": [],
   "source": [
    "df_final.to_json(\"../Data/clean_data.json\")"
   ]
  },
  {
   "cell_type": "code",
   "execution_count": 7,
   "id": "2f2f0e1a-f7ea-405f-9668-8c5f4f4c23eb",
   "metadata": {},
   "outputs": [],
   "source": [
    "from sklearn.model_selection import train_test_split"
   ]
  },
  {
   "cell_type": "code",
   "execution_count": 8,
   "id": "404cb9f3-d186-4236-a7af-5883bff2891b",
   "metadata": {},
   "outputs": [],
   "source": [
    "ctxs = df.context.tolist()\n",
    "oracles = df.oracle_context.tolist()"
   ]
  },
  {
   "cell_type": "code",
   "execution_count": 9,
   "id": "25043975-be27-4fe7-a5e2-1707c6832eec",
   "metadata": {},
   "outputs": [],
   "source": [
    "for i,co in enumerate(zip(ctxs,oracles)):\n",
    "    c,o = co\n",
    "    c = c['sentences'][0]\n",
    "    c.remove(o)"
   ]
  },
  {
   "cell_type": "code",
   "execution_count": 10,
   "id": "5cd3cc54-5b7f-43d3-879e-acf97639adce",
   "metadata": {},
   "outputs": [],
   "source": [
    "df_oracle, df_no_oracle = train_test_split(df,test_size=0.2)\n",
    "df_oracle.reset_index(inplace=True,drop=True)\n",
    "df_no_oracle.reset_index(inplace=True,drop=True)"
   ]
  },
  {
   "cell_type": "code",
   "execution_count": 11,
   "id": "292c9e6a-e5e0-46df-8183-d333fa95e489",
   "metadata": {},
   "outputs": [],
   "source": [
    "ctxs = df_oracle.context.tolist()\n",
    "oracles = df_oracle.oracle_context.tolist()"
   ]
  },
  {
   "cell_type": "code",
   "execution_count": 12,
   "id": "ba7c589a-8368-4751-beb2-5f281c13b3d8",
   "metadata": {},
   "outputs": [],
   "source": [
    "for c,o in zip(ctxs,oracles):\n",
    "    c['sentences'][0][0] = o"
   ]
  },
  {
   "cell_type": "code",
   "execution_count": 13,
   "id": "2a3d0dd2-14a5-4a37-9198-e46f90e003e0",
   "metadata": {},
   "outputs": [],
   "source": [
    "df_oracle.to_json(\"Train_data/Tanenbaum_oracle.json\")\n",
    "df_no_oracle.to_json(\"Train_data/Tanenbaum_no_oracle.json\")"
   ]
  },
  {
   "cell_type": "code",
   "execution_count": 22,
   "id": "5f6f0ded-45f0-4ce5-9fad-b67bd9afb584",
   "metadata": {},
   "outputs": [
    {
     "data": {
      "text/plain": [
       "'<REASON>:  To answer the question about unique features of multiprocessor operating systems, we need to consider the context provided. \\n\\n1. **Definition of Multiprocessor Operating Systems**: The context defines multiprocessor operating systems as normal operating systems that handle system calls, memory management, file systems, and I/O devices. However, they have unique features in areas such as process synchronization, resource management, and scheduling.\\n\\n2. **Unique Features of Multiprocessor Operating Systems**:\\n   - **Process Synchronization**: Multiprocessor operating systems need to manage synchronization between processes running on different CPUs to avoid conflicts and ensure data consistency.\\n   - **Resource Management**: Efficient allocation and management of shared resources among multiple CPUs is crucial in multiprocessor systems to prevent bottlenecks and optimize performance.\\n   - **Scheduling**: Multiprocessor operating systems require advanced scheduling algorithms to distribute tasks among multiple CPUs effectively, considering factors like load balancing and minimizing idle time.\\n<ANSWER>the unique features of multiprocessor operating systems include specialized mechanisms for process synchronization, resource management, and scheduling to optimize performance in a shared-memory multiprocessor environment.\\n\\n<ANSWER>: The unique features of multiprocessor operating systems include specialized mechanisms for process synchronization, resource management, and scheduling to optimize performance in a shared-memory multiprocessor environment.'"
      ]
     },
     "execution_count": 22,
     "metadata": {},
     "output_type": "execute_result"
    }
   ],
   "source": [
    "df_oracle.cot_answer[600]"
   ]
  },
  {
   "cell_type": "code",
   "execution_count": null,
   "id": "25d9ac41-e682-429e-998d-73a1bb9989ce",
   "metadata": {},
   "outputs": [],
   "source": [
    "# Final cleaning"
   ]
  },
  {
   "cell_type": "code",
   "execution_count": 1,
   "id": "d3df0969-ad1b-40b0-9c7b-0ced861a4072",
   "metadata": {},
   "outputs": [],
   "source": [
    "import pandas as pd"
   ]
  },
  {
   "cell_type": "code",
   "execution_count": null,
   "id": "f42db15b-6a9c-4f97-9839-f75dbef980e8",
   "metadata": {},
   "outputs": [],
   "source": []
  },
  {
   "cell_type": "code",
   "execution_count": 5,
   "id": "4fd25f75-0daf-45bb-b21e-66d5fd49068c",
   "metadata": {},
   "outputs": [],
   "source": [
    "df_oracle = pd.concat([pd.read_json(\"../Data/Train_data/Galvin_no_oracle.json\"),pd.read_json(\"../Data/Train_data/Tanenbaum_no_oracle.json\")])"
   ]
  },
  {
   "cell_type": "code",
   "execution_count": 6,
   "id": "37cd04a6-0b18-42ce-bf94-d87b96f7b7e4",
   "metadata": {},
   "outputs": [],
   "source": [
    "df_oracle = df_oracle[['question', 'context', 'cot_answer']]\n",
    "df_oracle.reset_index(inplace=True,drop=True)"
   ]
  },
  {
   "cell_type": "code",
   "execution_count": 7,
   "id": "d9b9bdd8-ca04-4f76-bdff-08c244423334",
   "metadata": {},
   "outputs": [],
   "source": [
    "df_oracle.to_json(\"../Data/no_oracle_uncut.json\")"
   ]
  },
  {
   "cell_type": "code",
   "execution_count": 102,
   "id": "7a77e765-3e34-4dc1-aeea-24e3b4186726",
   "metadata": {},
   "outputs": [],
   "source": [
    "def make_instruction(ctx, question,answer):\n",
    "    docs = ctx['sentences'][0]\n",
    "    chunk = \" <DOCUMENT> \".join(docs)\n",
    "    chunk = \"<DOCUMENT> \" + chunk\n",
    "    chunk = chunk.split()\n",
    "    chunk = \" \".join(chunk[:3000])\n",
    "    system_prompt = \"\"\"\n",
    "<<SYS>>\n",
    "You are an AI assistant that helps answer questions based on provided context. Here are things to pay attention to:\n",
    "\n",
    "- First provide step-by-step reasoning on how to answer the question in the form <REASON>: $reason\n",
    "- In the reasoning, if you need to reference some sentences from the context, include them in ##begin_quote## and ##end_quote##.\n",
    "- End your response with a final answer in the form <ANSWER>: $answer. The answer should be succinct.\n",
    "- <DOCUMENT> tag in Context marks the beginning of a new document chunk.\n",
    "<</SYS>>\"\"\"\n",
    "\n",
    "    user_prompt = f\"\"\"\n",
    "Answer this Question: {question}\n",
    "using the Context: {chunk}\n",
    "\"\"\"\n",
    "    prompt = f\"[INST] {system_prompt} \\n{user_prompt} [/INST] \\n{answer}\"\n",
    "    return prompt\n"
   ]
  },
  {
   "cell_type": "code",
   "execution_count": 103,
   "id": "df74dc5a-1756-479a-a1cc-8a5bbbde4abc",
   "metadata": {},
   "outputs": [],
   "source": [
    "texts = []"
   ]
  },
  {
   "cell_type": "code",
   "execution_count": 104,
   "id": "5a084b34-161b-427e-85dd-817fdbd5401c",
   "metadata": {},
   "outputs": [],
   "source": [
    "for i in range(len(df_oracle)):\n",
    "    texts.append(make_instruction(df_oracle.context[i],df_oracle.question[i],df_oracle.cot_answer[i]))"
   ]
  },
  {
   "cell_type": "code",
   "execution_count": 105,
   "id": "c225816f-cf9f-4578-9e44-d01b37236ab8",
   "metadata": {},
   "outputs": [],
   "source": [
    "pd.DataFrame({\"text\":texts}).to_csv(\"Train_data/no_oracle.csv\",index=False)"
   ]
  },
  {
   "cell_type": "code",
   "execution_count": null,
   "id": "8c5ab94f-1c85-434f-beb5-86c42ec19084",
   "metadata": {},
   "outputs": [],
   "source": []
  }
 ],
 "metadata": {
  "kernelspec": {
   "display_name": "Python 3 (ipykernel)",
   "language": "python",
   "name": "python3"
  },
  "language_info": {
   "codemirror_mode": {
    "name": "ipython",
    "version": 3
   },
   "file_extension": ".py",
   "mimetype": "text/x-python",
   "name": "python",
   "nbconvert_exporter": "python",
   "pygments_lexer": "ipython3",
   "version": "3.8.10"
  }
 },
 "nbformat": 4,
 "nbformat_minor": 5
}
