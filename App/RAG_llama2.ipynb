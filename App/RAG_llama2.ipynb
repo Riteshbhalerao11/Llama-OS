{
 "cells": [
  {
   "cell_type": "code",
   "execution_count": 1,
   "id": "b9e7e752-a712-49e4-bec4-dbb15fb1c6b8",
   "metadata": {},
   "outputs": [],
   "source": [
    "from transformers import AutoTokenizer, AutoModelForCausalLM, TextStreamer\n",
    "import torch"
   ]
  },
  {
   "cell_type": "code",
   "execution_count": 2,
   "id": "924846f6-7216-4e45-94f8-2e2f6fbe0734",
   "metadata": {},
   "outputs": [],
   "source": [
    "model_name = '../RAG_finetune/LLama2-7b-OS'\n",
    "auth_tok = ''"
   ]
  },
  {
   "cell_type": "code",
   "execution_count": 3,
   "id": "cce102d0-b43d-4185-b21e-845132848650",
   "metadata": {},
   "outputs": [],
   "source": [
    "tokenizer = AutoTokenizer.from_pretrained(model_name)"
   ]
  },
  {
   "cell_type": "code",
   "execution_count": 9,
   "id": "e74924b5-26a2-4362-a68f-8af77904d678",
   "metadata": {},
   "outputs": [
    {
     "name": "stderr",
     "output_type": "stream",
     "text": [
      "The `load_in_4bit` and `load_in_8bit` arguments are deprecated and will be removed in the future versions. Please, pass a `BitsAndBytesConfig` object in `quantization_config` argument instead.\n",
      "`low_cpu_mem_usage` was None, now set to True since model is quantized.\n"
     ]
    },
    {
     "data": {
      "application/vnd.jupyter.widget-view+json": {
       "model_id": "693cdf0659914a5ea21933e0ac9e4f19",
       "version_major": 2,
       "version_minor": 0
      },
      "text/plain": [
       "Loading checkpoint shards:   0%|          | 0/3 [00:00<?, ?it/s]"
      ]
     },
     "metadata": {},
     "output_type": "display_data"
    }
   ],
   "source": [
    "model = AutoModelForCausalLM.from_pretrained(model_name, torch_dtype=torch.float16, \n",
    "    rope_scaling={\"type\": \"dynamic\", \"factor\": 2}, load_in_8bit=True) "
   ]
  },
  {
   "cell_type": "code",
   "execution_count": 5,
   "id": "2e429696-8dce-4370-9092-4f1a9678b359",
   "metadata": {},
   "outputs": [],
   "source": [
    "# Import the prompt wrapper...but for llama index\n",
    "from llama_index.core.prompts.prompts import SimpleInputPrompt\n",
    "# Create a system prompt \n",
    "system_prompt = \"\"\"[INST] <>\n",
    "You are a helpful, respectful and honest assistant. Always answer as \n",
    "helpfully as possible, while being safe. Your answers should not include\n",
    "any harmful, unethical, racist, sexist, toxic, dangerous, or illegal content.\n",
    "Please ensure that your responses are socially unbiased and positive in nature.\n",
    "\n",
    "If a question does not make any sense, or is not factually coherent, explain \n",
    "why instead of answering something not correct. If you don't know the answer \n",
    "to a question, please don't share false information.\n",
    "\n",
    "Your goal is to provide answers relating to the subject of operating systems.<>\n",
    "\"\"\"\n",
    "# Throw together the query wrapper\n",
    "query_wrapper_prompt = SimpleInputPrompt(\"{query_str} [/INST]\")"
   ]
  },
  {
   "cell_type": "code",
   "execution_count": 6,
   "id": "4d92ff0c-1069-45e2-b668-09c28bf1f91f",
   "metadata": {},
   "outputs": [
    {
     "data": {
      "text/plain": [
       "'hello [/INST]'"
      ]
     },
     "execution_count": 6,
     "metadata": {},
     "output_type": "execute_result"
    }
   ],
   "source": [
    "# Complete the query prompt\n",
    "query_wrapper_prompt.format(query_str='hello')     "
   ]
  },
  {
   "cell_type": "code",
   "execution_count": 7,
   "id": "4e89b60e-eef0-4a01-a4fc-b1a9e3339db7",
   "metadata": {},
   "outputs": [
    {
     "name": "stderr",
     "output_type": "stream",
     "text": [
      "/home/ritesh/.local/lib/python3.8/site-packages/pydantic/_internal/_fields.py:160: UserWarning: Field \"model_id\" has conflict with protected namespace \"model_\".\n",
      "\n",
      "You may be able to resolve this warning by setting `model_config['protected_namespaces'] = ()`.\n",
      "  warnings.warn(\n",
      "The model `StabilityAI/stablelm-tuned-alpha-3b` and tokenizer `meta-llama/Llama-2-13b-chat-hf` are different, please ensure that they are compatible.\n"
     ]
    }
   ],
   "source": [
    "# Import the llama index HF Wrapper\n",
    "from llama_index.llms.huggingface import HuggingFaceLLM\n",
    "# Create a HF LLM using the llama index wrapper \n",
    "llm = HuggingFaceLLM(context_window=4096,\n",
    "                    max_new_tokens=256,\n",
    "                    system_prompt=system_prompt,\n",
    "                    query_wrapper_prompt=query_wrapper_prompt,\n",
    "                    model=model,\n",
    "                    tokenizer=tokenizer)"
   ]
  },
  {
   "cell_type": "code",
   "execution_count": 8,
   "id": "17ab39ff-c45b-4245-8dde-0ce682d46ca3",
   "metadata": {},
   "outputs": [],
   "source": [
    "# Bring in embeddings wrapper\n",
    "from llama_index.embeddings.langchain import LangchainEmbedding\n",
    "# Bring in HF embeddings - need these to represent document chunks\n",
    "from langchain.embeddings.huggingface import HuggingFaceEmbeddings"
   ]
  },
  {
   "cell_type": "code",
   "execution_count": 9,
   "id": "ef4dcc50-c164-4f08-995c-73b365fb4150",
   "metadata": {},
   "outputs": [
    {
     "name": "stderr",
     "output_type": "stream",
     "text": [
      "/home/ritesh/.local/lib/python3.8/site-packages/huggingface_hub/file_download.py:1132: FutureWarning: `resume_download` is deprecated and will be removed in version 1.0.0. Downloads always resume when possible. If you want to force a new download, use `force_download=True`.\n",
      "  warnings.warn(\n"
     ]
    }
   ],
   "source": [
    "embeddings=LangchainEmbedding(\n",
    "    HuggingFaceEmbeddings(model_name=\"BAAI/bge-large-en-v1.5\")\n",
    ")"
   ]
  },
  {
   "cell_type": "code",
   "execution_count": 10,
   "id": "48f03771-3c63-46b7-86c8-da10d997e641",
   "metadata": {},
   "outputs": [],
   "source": [
    "from llama_index.core import set_global_service_context\n",
    "from llama_index.core import ServiceContext"
   ]
  },
  {
   "cell_type": "code",
   "execution_count": 11,
   "id": "5cf2687d-e289-4d16-8e48-8849366c62e5",
   "metadata": {},
   "outputs": [
    {
     "name": "stderr",
     "output_type": "stream",
     "text": [
      "/tmp/ipykernel_13793/1099718545.py:2: DeprecationWarning: Call to deprecated function (or staticmethod) from_defaults. (ServiceContext is deprecated, please use `llama_index.settings.Settings` instead.) -- Deprecated since version 0.10.0.\n",
      "  service_context = ServiceContext.from_defaults(\n"
     ]
    }
   ],
   "source": [
    "# Create new service context instance\n",
    "service_context = ServiceContext.from_defaults(\n",
    "    chunk_size=1024,\n",
    "    llm=llm,\n",
    "    embed_model=embeddings\n",
    ")\n",
    "# And set the service context\n",
    "set_global_service_context(service_context)"
   ]
  },
  {
   "cell_type": "code",
   "execution_count": 12,
   "id": "e8fd5035-2128-4769-bfa1-a07bdd652a53",
   "metadata": {},
   "outputs": [],
   "source": [
    "# Import deps to load documents \n",
    "from llama_index.core import VectorStoreIndex\n",
    "from pathlib import Path"
   ]
  },
  {
   "cell_type": "code",
   "execution_count": 13,
   "id": "6e08f1b7-d2ec-4d71-b9be-51db57882321",
   "metadata": {},
   "outputs": [],
   "source": [
    "from llama_index.readers.file import PyMuPDFReader\n",
    "loader = PyMuPDFReader()\n",
    "# Load documents \n",
    "documents = loader.load(file_path=Path(\"../Data/Os_books/Galvin.pdf\"), metadata=True)"
   ]
  },
  {
   "cell_type": "code",
   "execution_count": 14,
   "id": "5341ec9a-470b-4825-8fdc-bb62197d383a",
   "metadata": {},
   "outputs": [],
   "source": [
    "# Create an index - we'll be able to query this in a sec\n",
    "index = VectorStoreIndex.from_documents(documents)"
   ]
  },
  {
   "cell_type": "code",
   "execution_count": 19,
   "id": "fa752bdb-c045-45cb-b092-06a8e058c01c",
   "metadata": {},
   "outputs": [],
   "source": [
    "# Setup index query engine using LLM \n",
    "query_engine = index.as_query_engine(streaming=True)"
   ]
  },
  {
   "cell_type": "code",
   "execution_count": 30,
   "id": "3b4d5f41-db9a-4b9a-a455-747fe3c436eb",
   "metadata": {},
   "outputs": [],
   "source": [
    "response = query_engine.query(\"What is operating system ?\")"
   ]
  },
  {
   "cell_type": "code",
   "execution_count": 31,
   "id": "e07a280f-a2f1-4594-8774-55b72c2b0439",
   "metadata": {},
   "outputs": [
    {
     "name": "stdout",
     "output_type": "stream",
     "text": [
      " Based on the context information provided, an operating system (OS) is software that manages computer hardware resources and provides a platform for executing applications. It acts as an intermediary between the user and the computer hardware, providing a convenient and efficient environment for program execution. The OS manages the computer's memory, processes, files, and input/output (I/O) operations, ensuring the proper functioning of the computer system and preventing user programs from interfering with each other or the system.\n",
      "\n",
      "The context information highlights the importance of the OS in providing services to users, processes, and other systems. These services include program execution, memory management, file management, and input/output operations. The OS is designed to provide a structured environment for program execution, with well-defined inputs, outputs, and functions.\n",
      "\n",
      "The chapter objectives mention the services provided by the OS, the various ways of structuring the OS, and how the OS is installed and customized. The discussion will cover the common services provided by the OS, such as program execution, memory management, and file management, and how these services are provided to users and processes."
     ]
    }
   ],
   "source": [
    "for text in response.response_gen:\n",
    "    print(text, end='')"
   ]
  },
  {
   "cell_type": "code",
   "execution_count": 36,
   "id": "aa5da759-624a-4798-891a-42c04cc9826a",
   "metadata": {},
   "outputs": [
    {
     "data": {
      "text/plain": [
       "StreamingResponse(response_gen=<generator object stream_completion_response_to_tokens.<locals>.gen at 0x7efad6704040>, source_nodes=[NodeWithScore(node=TextNode(id_='366506ea-3e57-4517-91a8-cbb339e44146', embedding=None, metadata={'total_pages': 944, 'file_path': '../Data/Galvin.pdf', 'source': '25'}, excluded_embed_metadata_keys=[], excluded_llm_metadata_keys=[], relationships={<NodeRelationship.SOURCE: '1'>: RelatedNodeInfo(node_id='831e3338-7455-4f14-a4b0-870cd014ceee', node_type=<ObjectType.DOCUMENT: '4'>, metadata={'total_pages': 944, 'file_path': '../Data/Galvin.pdf', 'source': '25'}, hash='d9f44c8d539ae7948604d93db3b2102880b972ea105431e2f042971d037ced37')}, text='Part One\\nOverview\\nAn operating system acts as an intermediary between the user of a\\ncomputer and the computer hardware. The purpose of an operating\\nsystem is to provide an environment in which a user can execute\\nprograms in a convenient and efﬁcient manner.\\nAn operating system is software that manages the computer hard-\\nware. The hardware must provide appropriate mechanisms to ensure the\\ncorrect operation of the computer system and to prevent user programs\\nfrom interfering with the proper operation of the system.\\nInternally, operating systems vary greatly in their makeup, since they\\nare organized along many different lines. The design of a new operating\\nsystem is a major task. It is important that the goals of the system be well\\ndeﬁned before the design begins. These goals form the basis for choices\\namong various algorithms and strategies.\\nBecause an operating system is large and complex, it must be created\\npiece by piece. Each of these pieces should be a well-delineated portion\\nof the system, with carefully deﬁned inputs, outputs, and functions.', start_char_idx=0, end_char_idx=1062, text_template='{metadata_str}\\n\\n{content}', metadata_template='{key}: {value}', metadata_seperator='\\n'), score=0.7379258979914534), NodeWithScore(node=TextNode(id_='46066f46-f0a2-4a7d-a26e-e35fab8e057c', embedding=None, metadata={'total_pages': 944, 'file_path': '../Data/Galvin.pdf', 'source': '79'}, excluded_embed_metadata_keys=[], excluded_llm_metadata_keys=[], relationships={<NodeRelationship.SOURCE: '1'>: RelatedNodeInfo(node_id='063faaa2-8d67-4b7f-afbb-9984f57f095f', node_type=<ObjectType.DOCUMENT: '4'>, metadata={'total_pages': 944, 'file_path': '../Data/Galvin.pdf', 'source': '79'}, hash='6aa022ea829e9b505524e6188819467e3943c0efc86191821dc76304b5e3b803')}, text='2\\nC H A P T E R\\nOperating-\\nSystem\\nStructures\\nAn operating system provides the environment within which programs are\\nexecuted. Internally, operating systems vary greatly in their makeup, since\\nthey are organized along many different lines. The design of a new operating\\nsystem is a major task. It is important that the goals of the system be well\\ndeﬁned before the design begins. These goals form the basis for choices among\\nvarious algorithms and strategies.\\nWe can view an operating system from several vantage points. One view\\nfocuses on the services that the system provides; another, on the interface that\\nit makes available to users and programmers; a third, on its components and\\ntheir interconnections. In this chapter, we explore all three aspects of operating\\nsystems, showing the viewpoints of users, programmers, and operating system\\ndesigners. We consider what services an operating system provides, how they\\nare provided, how they are debugged, and what the various methodologies\\nare for designing such systems. Finally, we describe how operating systems\\nare created and how a computer starts its operating system.\\nCHAPTER OBJECTIVES\\n• To describe the services an operating system provides to users, processes,\\nand other systems.\\n• To discuss the various ways of structuring an operating system.\\n• To explain how operating systems are installed and customized and how\\nthey boot.\\n2.1\\nOperating-System Services\\nAn operating system provides an environment for the execution of programs.\\nIt provides certain services to programs and to the users of those programs.\\nThe speciﬁc services provided, of course, differ from one operating system to\\nanother, but we can identify common classes. These operating system services\\nare provided for the convenience of the programmer, to make the programming\\n55', start_char_idx=0, end_char_idx=1807, text_template='{metadata_str}\\n\\n{content}', metadata_template='{key}: {value}', metadata_seperator='\\n'), score=0.6961824791814534)], metadata={'366506ea-3e57-4517-91a8-cbb339e44146': {'total_pages': 944, 'file_path': '../Data/Galvin.pdf', 'source': '25'}, '46066f46-f0a2-4a7d-a26e-e35fab8e057c': {'total_pages': 944, 'file_path': '../Data/Galvin.pdf', 'source': '79'}}, response_txt=None)"
      ]
     },
     "execution_count": 36,
     "metadata": {},
     "output_type": "execute_result"
    }
   ],
   "source": [
    "response"
   ]
  },
  {
   "cell_type": "code",
   "execution_count": null,
   "id": "651ada7a-b095-444c-a4ed-fc15dde7a5fc",
   "metadata": {},
   "outputs": [],
   "source": []
  }
 ],
 "metadata": {
  "kernelspec": {
   "display_name": "Python 3 (ipykernel)",
   "language": "python",
   "name": "python3"
  },
  "language_info": {
   "codemirror_mode": {
    "name": "ipython",
    "version": 3
   },
   "file_extension": ".py",
   "mimetype": "text/x-python",
   "name": "python",
   "nbconvert_exporter": "python",
   "pygments_lexer": "ipython3",
   "version": "3.8.10"
  }
 },
 "nbformat": 4,
 "nbformat_minor": 5
}
